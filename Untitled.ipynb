{
 "cells": [
  {
   "cell_type": "code",
   "execution_count": 1,
   "id": "a8c690a1",
   "metadata": {},
   "outputs": [
    {
     "data": {
      "text/plain": [
       "Main.Nevanlinna"
      ]
     },
     "execution_count": 1,
     "metadata": {},
     "output_type": "execute_result"
    }
   ],
   "source": [
    "using SparseIR\n",
    "using PyPlot\n",
    "rcParams = PyPlot.PyDict(PyPlot.matplotlib.\"rcParams\")\n",
    "rcParams[\"text.usetex\"] = true\n",
    "rcParams[\"font.family\"] = \"serif\"\n",
    "rcParams[\"font.size\"] = 16\n",
    "rcParams[\"text.latex.preamble\"] = raw\"\\usepackage{amsmath}\"\n",
    "using LinearAlgebra\n",
    "using Revise\n",
    "using Optim\n",
    "using FFTW\n",
    "#using ForwardDiff\n",
    "using Zygote\n",
    "#using Flux\n",
    "include(\"./src/Nevanlinna.jl\")"
   ]
  },
  {
   "cell_type": "code",
   "execution_count": 2,
   "id": "c2efec92",
   "metadata": {},
   "outputs": [
    {
     "data": {
      "image/png": "[encoded data removed]",
      "text/plain": [
       "Figure(PyObject <Figure size 640x480 with 1 Axes>)"
      ]
     },
     "metadata": {},
     "output_type": "display_data"
    },
    {
     "data": {
      "text/plain": [
       "1-element Vector{PyCall.PyObject}:\n",
       " PyObject <matplotlib.lines.Line2D object at 0x14c34684a4c0>"
      ]
     },
     "execution_count": 2,
     "metadata": {},
     "output_type": "execute_result"
    }
   ],
   "source": [
    "#Three Gaussian peaks (normalized to 1)\n",
    "gaussian(x, mu, sigma) = exp(-((x-mu)/sigma)^2)/(sqrt(π)*sigma)\n",
    "\n",
    "#rho(omega) = 0.2*gaussian(omega, 0.0, 0.15) + \n",
    "#    0.4*gaussian(omega, 1.0, 0.8) + 0.4*gaussian(omega, -1.0, 0.8)\n",
    "\n",
    "rho(omega) = gaussian(omega, 0.0, 0.15)\n",
    "#    0.4*gaussian(omega, 1.0, 0.8) + 0.4*gaussian(omega, -1.0, 0.8)\n",
    "\n",
    "\n",
    "omegas = LinRange(-5, 5, 1000)\n",
    "plt.xlabel(L\"\\omega\")\n",
    "plt.ylabel(L\"\\rho(\\omega)\")\n",
    "plt.plot(omegas, rho.(omegas))"
   ]
  },
  {
   "cell_type": "code",
   "execution_count": 3,
   "id": "05681886",
   "metadata": {},
   "outputs": [],
   "source": [
    "beta = 100\n",
    "wmax = 1000\n",
    "IR_basis_set = FiniteTempBasisSet(Float64(beta), Float64(wmax), 1e-7)\n",
    "#basis = FiniteTempBasis(fermion, beta, wmax, 1e-7)\n",
    "\n",
    "rhol = [overlap(IR_basis_set.basis_f.v[l], rho) for l in 1:length(IR_basis_set.basis_f)]\n",
    "gl = - IR_basis_set.basis_f.s .* rhol\n",
    ";\n",
    "#=\n",
    "plt.semilogy(abs.(rhol), marker=\"o\", label=L\"|\\rho_l|\")\n",
    "plt.semilogy(abs.(gl), marker=\"x\", label=L\"|g_l|\")\n",
    "plt.xlabel(L\"l\")\n",
    "plt.ylim([1e-5, 1])\n",
    "#plt.legend()\n",
    "=#"
   ]
  },
  {
   "cell_type": "code",
   "execution_count": 4,
   "id": "2ed8f367",
   "metadata": {},
   "outputs": [
    {
     "data": {
      "text/plain": [
       "37"
      ]
     },
     "execution_count": 4,
     "metadata": {},
     "output_type": "execute_result"
    }
   ],
   "source": [
    "gw = evaluate(IR_basis_set.smpl_wn_f, gl)\n",
    "hnw = Int64(length(IR_basis_set.smpl_wn_f.sampling_points)/2)"
   ]
  },
  {
   "cell_type": "code",
   "execution_count": 5,
   "id": "3b60ea1b",
   "metadata": {},
   "outputs": [
    {
     "data": {
      "text/plain": [
       "128"
      ]
     },
     "execution_count": 5,
     "metadata": {},
     "output_type": "execute_result"
    }
   ],
   "source": [
    "setprecision(128)"
   ]
  },
  {
   "cell_type": "code",
   "execution_count": 6,
   "id": "0d234011",
   "metadata": {},
   "outputs": [],
   "source": [
    "test_gw   = Array{Complex{BigFloat}}(undef, hnw) \n",
    "test_smpl = Array{BigFloat}(undef, hnw) \n",
    ";"
   ]
  },
  {
   "cell_type": "code",
   "execution_count": 7,
   "id": "d7d36631",
   "metadata": {},
   "outputs": [],
   "source": [
    "for i in 1:hnw\n",
    "    test_smpl[i]= parse(BigFloat, string(IR_basis_set.smpl_wn_f.sampling_points[hnw+i]*pi/beta))\n",
    "    test_gw[i]  = parse(BigFloat, string(real(gw[hnw+i]))) + parse(BigFloat, string(imag(gw[hnw+i])))*im\n",
    "end"
   ]
  },
  {
   "cell_type": "code",
   "execution_count": 8,
   "id": "31c4be4a",
   "metadata": {},
   "outputs": [
    {
     "name": "stdout",
     "output_type": "stream",
     "text": [
      "Pick matrix is positive semi-definite.\n"
     ]
    }
   ],
   "source": [
    "N_imag    =  12\n",
    "N_real    =  6000\n",
    "omega_min = -10.0\n",
    "omega_max =  10.0\n",
    "eta       =  0.001\n",
    "H         =  15\n",
    "ab_coeff = zeros(Float64, 2*H) \n",
    "imaginary = Nevanlinna.ImagDomainData(N_imag, test_smpl, test_gw)\n",
    "phis = Nevanlinna.calc_phis(imaginary)\n",
    "\n",
    "pre_reals = Nevanlinna.RealDomainData(N_real, omega_max, eta)\n",
    "pre_abcd = Nevanlinna.calc_abcd(imaginary, pre_reals, phis)\n",
    "#Nevanlinna.evaluation(imaginary, pre_reals, phis, H, ab_coeff)\n",
    "hardy_matrix = Nevanlinna.calc_hardy_matrix(pre_reals,H)\n",
    "Nevanlinna.evaluation(imaginary, pre_reals, pre_abcd, H, ab_coeff, hardy_matrix)\n",
    "\n",
    "reals = Nevanlinna.RealDomainData(N_real, omega_max, eta)\n",
    "abcd = Nevanlinna.calc_abcd(imaginary, pre_reals, phis)\n",
    ";"
   ]
  },
  {
   "cell_type": "code",
   "execution_count": 9,
   "id": "d0cd327c",
   "metadata": {},
   "outputs": [
    {
     "data": {
      "image/png": "[encoded data removed]",
      "text/plain": [
       "Figure(PyObject <Figure size 640x480 with 1 Axes>)"
      ]
     },
     "metadata": {},
     "output_type": "display_data"
    },
    {
     "data": {
      "text/plain": [
       "(-1.0, 1.0)"
      ]
     },
     "execution_count": 9,
     "metadata": {},
     "output_type": "execute_result"
    }
   ],
   "source": [
    "plt.plot(Float64.(real.((pre_reals.freq))), Float64.(imag.(pre_reals.val))/pi)\n",
    "plt.xlim(-1.0,1.0)"
   ]
  },
  {
   "cell_type": "code",
   "execution_count": 10,
   "id": "fcf6e8a6",
   "metadata": {},
   "outputs": [
    {
     "ename": "LoadError",
     "evalue": "UndefVarError: calc_functional_naive not defined",
     "output_type": "error",
     "traceback": [
      "UndefVarError: calc_functional_naive not defined",
      "",
      "Stacktrace:",
      " [1] getproperty(x::Module, f::Symbol)",
      "   @ Base ./Base.jl:26",
      " [2] top-level scope",
      "   @ In[10]:1",
      " [3] eval",
      "   @ ./boot.jl:360 [inlined]",
      " [4] include_string(mapexpr::typeof(REPL.softscope), mod::Module, code::String, filename::String)",
      "   @ Base ./loading.jl:1116"
     ]
    }
   ],
   "source": [
    "Nevanlinna.calc_functional_naive(reals, abcd, H, ab_coeff)"
   ]
  },
  {
   "cell_type": "code",
   "execution_count": 11,
   "id": "d2db59be",
   "metadata": {},
   "outputs": [
    {
     "data": {
      "text/plain": [
       "11.33475227308237"
      ]
     },
     "execution_count": 11,
     "metadata": {},
     "output_type": "execute_result"
    }
   ],
   "source": [
    "Nevanlinna.calc_functional(reals, abcd, H, ab_coeff, hardy_matrix)"
   ]
  },
  {
   "cell_type": "code",
   "execution_count": 12,
   "id": "a85abb20",
   "metadata": {},
   "outputs": [
    {
     "data": {
      "text/plain": [
       "#3 (generic function with 1 method)"
      ]
     },
     "execution_count": 12,
     "metadata": {},
     "output_type": "execute_result"
    }
   ],
   "source": [
    "f = x->Nevanlinna.calc_functional(reals, abcd, H, x, hardy_matrix)"
   ]
  },
  {
   "cell_type": "code",
   "execution_count": 13,
   "id": "5fe624cf",
   "metadata": {},
   "outputs": [
    {
     "name": "stdout",
     "output_type": "stream",
     "text": [
      " 19.775978 seconds (54.98 M allocations: 3.059 GiB, 7.00% gc time, 97.00% compilation time)\n"
     ]
    },
    {
     "data": {
      "text/plain": [
       "([-0.00020564384372339422, 0.00015430901128191699, -0.00010180615282356939, 5.065012028312811e-5, -3.1922553540797706e-6, -3.8590179617812446e-5, 7.325321608525659e-5, -9.997541972165696e-5, 0.00011857068142841784, -0.0001294305217706258  …  -0.00037321068319276274, 0.00037218219555496413, -0.000364502450174573, 0.0003515536462479073, -0.0003347687823334223, 0.0003155041115398074, -0.0002949478837736789, 0.000274068387942286, -0.0002535976755919049, 0.0002340428876422816],)"
      ]
     },
     "execution_count": 13,
     "metadata": {},
     "output_type": "execute_result"
    }
   ],
   "source": [
    "@time gradient(f, ab_coeff)"
   ]
  },
  {
   "cell_type": "code",
   "execution_count": null,
   "id": "87d7b413",
   "metadata": {},
   "outputs": [],
   "source": []
  }
 ],
 "metadata": {
  "kernelspec": {
   "display_name": "Julia 1.6.3",
   "language": "julia",
   "name": "julia-1.6"
  },
  "language_info": {
   "file_extension": ".jl",
   "mimetype": "application/julia",
   "name": "julia",
   "version": "1.6.3"
  }
 },
 "nbformat": 4,
 "nbformat_minor": 5
}
