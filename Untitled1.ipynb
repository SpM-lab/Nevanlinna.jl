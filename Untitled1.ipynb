{
 "cells": [
  {
   "cell_type": "code",
   "execution_count": 2,
   "id": "dc212603",
   "metadata": {},
   "outputs": [
    {
     "ename": "LoadError",
     "evalue": "ArgumentError: Package Nevanlinna not found in current path:\n- Run `import Pkg; Pkg.add(\"Nevanlinna\")` to install the Nevanlinna package.\n",
     "output_type": "error",
     "traceback": [
      "ArgumentError: Package Nevanlinna not found in current path:\n- Run `import Pkg; Pkg.add(\"Nevanlinna\")` to install the Nevanlinna package.\n",
      "",
      "Stacktrace:",
      " [1] require(into::Module, mod::Symbol)",
      "   @ Base ./loading.jl:893",
      " [2] eval",
      "   @ ./boot.jl:360 [inlined]",
      " [3] include_string(mapexpr::typeof(REPL.softscope), mod::Module, code::String, filename::String)",
      "   @ Base ./loading.jl:1116"
     ]
    }
   ],
   "source": [
    "using Zygote\n",
    "using FFTW\n",
    "using ForwardDiff\n",
    "using Nevanlinna"
   ]
  },
  {
   "cell_type": "code",
   "execution_count": 49,
   "id": "9f0873f5",
   "metadata": {},
   "outputs": [
    {
     "data": {
      "text/plain": [
       "3-element Vector{String}:\n",
       " \"@\"\n",
       " \"@v#.#\"\n",
       " \"@stdlib\""
      ]
     },
     "execution_count": 49,
     "metadata": {},
     "output_type": "execute_result"
    }
   ],
   "source": [
    "LOAD_PATH"
   ]
  },
  {
   "cell_type": "code",
   "execution_count": 42,
   "id": "b962c5c9",
   "metadata": {},
   "outputs": [
    {
     "data": {
      "text/plain": [
       "([0.0, 0.0, 0.0, 0.0, 0.0, 0.0, 0.0, 0.0, 0.0, 0.0  …  0.0, 0.0, 0.0, 0.0, 0.0, 0.0, 0.0, 0.0, 0.0, 0.0],)"
      ]
     },
     "execution_count": 42,
     "metadata": {},
     "output_type": "execute_result"
    }
   ],
   "source": [
    "function ssum(x::Vector{Float64})\n",
    "    y = fft(x)\n",
    "    z = Array{Float64}(undef, length(x)) \n",
    "    #for i in 1:length(x)\n",
    "    #    z[i] = y[i]\n",
    "    #end\n",
    "    #z = y\n",
    "    z .= collect(i^2 for i in 1:length(x))\n",
    "    tmp::Float64 = 0.0\n",
    "    for i in 1:length(x)\n",
    "        tmp += y[i]^2\n",
    "    end\n",
    "    return tmp\n",
    "end\n",
    "x = zeros(Float64, 100)\n",
    "gradient(ssum, x)"
   ]
  },
  {
   "cell_type": "code",
   "execution_count": 20,
   "id": "f0ff4083",
   "metadata": {},
   "outputs": [
    {
     "data": {
      "text/plain": [
       "100-element Vector{Float64}:\n",
       " 0.0\n",
       " 0.0\n",
       " 0.0\n",
       " 0.0\n",
       " 0.0\n",
       " 0.0\n",
       " 0.0\n",
       " 0.0\n",
       " 0.0\n",
       " 0.0\n",
       " 0.0\n",
       " 0.0\n",
       " 0.0\n",
       " ⋮\n",
       " 0.0\n",
       " 0.0\n",
       " 0.0\n",
       " 0.0\n",
       " 0.0\n",
       " 0.0\n",
       " 0.0\n",
       " 0.0\n",
       " 0.0\n",
       " 0.0\n",
       " 0.0\n",
       " 0.0"
      ]
     },
     "execution_count": 20,
     "metadata": {},
     "output_type": "execute_result"
    }
   ],
   "source": [
    "x = zeros(Float64, 100)\n",
    "#x = ones(Float64, 100)"
   ]
  },
  {
   "cell_type": "code",
   "execution_count": 6,
   "id": "a5aed3ee",
   "metadata": {},
   "outputs": [
    {
     "data": {
      "text/plain": [
       "6.0"
      ]
     },
     "execution_count": 6,
     "metadata": {},
     "output_type": "execute_result"
    }
   ],
   "source": [
    "ssum(x)"
   ]
  },
  {
   "cell_type": "code",
   "execution_count": 21,
   "id": "19dd1f24",
   "metadata": {},
   "outputs": [
    {
     "data": {
      "text/plain": [
       "([0.0, 0.0, 0.0, 0.0, 0.0, 0.0, 0.0, 0.0, 0.0, 0.0  …  0.0, 0.0, 0.0, 0.0, 0.0, 0.0, 0.0, 0.0, 0.0, 0.0],)"
      ]
     },
     "execution_count": 21,
     "metadata": {},
     "output_type": "execute_result"
    }
   ],
   "source": [
    "gradient(ssum, x)"
   ]
  },
  {
   "cell_type": "code",
   "execution_count": 33,
   "id": "65df9174",
   "metadata": {},
   "outputs": [
    {
     "data": {
      "text/plain": [
       "test (generic function with 1 method)"
      ]
     },
     "execution_count": 33,
     "metadata": {},
     "output_type": "execute_result"
    }
   ],
   "source": [
    "function test(x)\n",
    "  x^2  \n",
    "end"
   ]
  },
  {
   "cell_type": "code",
   "execution_count": 39,
   "id": "c6a6189a",
   "metadata": {},
   "outputs": [
    {
     "data": {
      "text/plain": [
       "10-element Vector{Int64}:\n",
       "   1\n",
       "   4\n",
       "   9\n",
       "  16\n",
       "  25\n",
       "  36\n",
       "  49\n",
       "  64\n",
       "  81\n",
       " 100"
      ]
     },
     "execution_count": 39,
     "metadata": {},
     "output_type": "execute_result"
    }
   ],
   "source": [
    "collect(i^2 for i in 1:10)"
   ]
  }
 ],
 "metadata": {
  "kernelspec": {
   "display_name": "Julia 1.6.3",
   "language": "julia",
   "name": "julia-1.6"
  },
  "language_info": {
   "file_extension": ".jl",
   "mimetype": "application/julia",
   "name": "julia",
   "version": "1.6.3"
  }
 },
 "nbformat": 4,
 "nbformat_minor": 5
}
