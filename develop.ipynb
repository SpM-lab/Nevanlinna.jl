{
 "cells": [
  {
   "cell_type": "code",
   "execution_count": 1,
   "id": "c994ba80",
   "metadata": {},
   "outputs": [
    {
     "data": {
      "text/plain": [
       "Main.Nevanlinna"
      ]
     },
     "execution_count": 1,
     "metadata": {},
     "output_type": "execute_result"
    }
   ],
   "source": [
    "using SparseIR\n",
    "using PyPlot\n",
    "rcParams = PyPlot.PyDict(PyPlot.matplotlib.\"rcParams\")\n",
    "rcParams[\"text.usetex\"] = true\n",
    "rcParams[\"font.family\"] = \"serif\"\n",
    "rcParams[\"font.size\"] = 16\n",
    "rcParams[\"text.latex.preamble\"] = raw\"\\usepackage{amsmath}\"\n",
    "using LinearAlgebra\n",
    "using Revise\n",
    "using Optim\n",
    "using FFTW\n",
    "using Zygote\n",
    "include(\"./src/Nevanlinna.jl\")"
   ]
  },
  {
   "cell_type": "code",
   "execution_count": 2,
   "id": "3593ead9",
   "metadata": {},
   "outputs": [
    {
     "data": {
      "image/png": "[encoded data removed]",
      "text/plain": [
       "Figure(PyObject <Figure size 640x480 with 1 Axes>)"
      ]
     },
     "metadata": {},
     "output_type": "display_data"
    },
    {
     "data": {
      "text/plain": [
       "1-element Vector{PyCall.PyObject}:\n",
       " PyObject <matplotlib.lines.Line2D object at 0x152b8b5b7520>"
      ]
     },
     "execution_count": 2,
     "metadata": {},
     "output_type": "execute_result"
    }
   ],
   "source": [
    "# Three Gaussian peaks (normalized to 1)\n",
    "gaussian(x, mu, sigma) = exp(-((x-mu)/sigma)^2)/(sqrt(π)*sigma)\n",
    "\n",
    "#rho(omega) = 0.2*gaussian(omega, 0.0, 0.15) + \n",
    "#    0.4*gaussian(omega, 1.0, 0.8) + 0.4*gaussian(omega, -1.0, 0.8)\n",
    "\n",
    "#rho(omega) = gaussian(omega, 1.0, 0.15)\n",
    "#    0.4*gaussian(omega, 1.0, 0.8) + 0.4*gaussian(omega, -1.0, 0.8)\n",
    "\n",
    "#rho(omega) = 0.4*gaussian(omega, 1.0, 0.5) + \n",
    "#    0.4*gaussian(omega, 3.0, 0.8) + 0.2*gaussian(omega, -2.0, 1.0) \n",
    "rho(omega) = 1.0*gaussian(omega, 1.0, 0.05) \n",
    "#+  0.4*gaussian(omega, 3.0, 0.8) \n",
    "\n",
    "omegas = LinRange(-5, 5, 1000)\n",
    "plt.xlabel(L\"\\omega\")\n",
    "plt.ylabel(L\"\\rho(\\omega)\")\n",
    "plt.plot(omegas, rho.(omegas))"
   ]
  },
  {
   "cell_type": "code",
   "execution_count": 3,
   "id": "70c10525",
   "metadata": {},
   "outputs": [],
   "source": [
    "beta = 100\n",
    "wmax = 1000\n",
    "IR_basis_set = FiniteTempBasisSet(Float64(beta), Float64(wmax), 1e-15) #もともと-7\n",
    "#basis = FiniteTempBasis(fermion, beta, wmax, 1e-7)\n",
    "\n",
    "rhol = [overlap(IR_basis_set.basis_f.v[l], rho) for l in 1:length(IR_basis_set.basis_f)]\n",
    "gl = - IR_basis_set.basis_f.s .* rhol\n",
    ";\n",
    "#=\n",
    "plt.semilogy(abs.(rhol), marker=\"o\", label=L\"|\\rho_l|\")\n",
    "plt.semilogy(abs.(gl), marker=\"x\", label=L\"|g_l|\")\n",
    "plt.xlabel(L\"l\")\n",
    "plt.ylim([1e-5, 1])\n",
    "#plt.legend()\n",
    "=#"
   ]
  },
  {
   "cell_type": "code",
   "execution_count": 4,
   "id": "3c668898",
   "metadata": {},
   "outputs": [
    {
     "data": {
      "text/plain": [
       "71"
      ]
     },
     "execution_count": 4,
     "metadata": {},
     "output_type": "execute_result"
    }
   ],
   "source": [
    "gw = evaluate(IR_basis_set.smpl_wn_f, gl)\n",
    "hnw = Int64(length(IR_basis_set.smpl_wn_f.sampling_points)/2)"
   ]
  },
  {
   "cell_type": "code",
   "execution_count": 5,
   "id": "fad7aa5b",
   "metadata": {},
   "outputs": [],
   "source": [
    "setprecision(128)\n",
    ";"
   ]
  },
  {
   "cell_type": "code",
   "execution_count": 6,
   "id": "40d6361a",
   "metadata": {},
   "outputs": [],
   "source": [
    "test_gw   = Array{Complex{BigFloat}}(undef, hnw) \n",
    "test_smpl = Array{BigFloat}(undef, hnw) \n",
    ";"
   ]
  },
  {
   "cell_type": "code",
   "execution_count": 7,
   "id": "d82c402a",
   "metadata": {},
   "outputs": [],
   "source": [
    "for i in 1:hnw\n",
    "    test_smpl[i]= parse(BigFloat, string(IR_basis_set.smpl_wn_f.sampling_points[hnw+i]*pi/beta))\n",
    "    test_gw[i]  = parse(BigFloat, string(real(gw[hnw+i]))) + parse(BigFloat, string(imag(gw[hnw+i])))*im\n",
    "end"
   ]
  },
  {
   "cell_type": "code",
   "execution_count": 8,
   "id": "5d63cc4b",
   "metadata": {
    "scrolled": true
   },
   "outputs": [
    {
     "name": "stdout",
     "output_type": "stream",
     "text": [
      "N_imag is setted as 5\n",
      "Pick matrix is positive semi-definite.\n",
      "Iter     Function value   Gradient norm \n",
      "     0     4.585620e+04     1.504700e+05\n",
      " * time: 0.019258975982666016\n",
      "     1     8.621624e+03     5.151546e+03\n",
      " * time: 10.653203964233398\n",
      "     2     8.097538e+03     4.940913e+03\n",
      " * time: 11.476884126663208\n",
      "     3     1.570100e+03     1.358915e+03\n",
      " * time: 12.28088903427124\n",
      "     4     1.865003e+02     4.736671e+02\n",
      " * time: 13.095468997955322\n",
      "     5     6.871799e+01     2.431479e+02\n",
      " * time: 13.913969993591309\n",
      "     6     1.386286e+01     6.740624e+01\n",
      " * time: 14.736129999160767\n",
      "     7     8.786781e+00     1.597546e+00\n",
      " * time: 15.259989023208618\n",
      "     8     8.542903e+00     7.473171e+00\n",
      " * time: 16.081264972686768\n",
      "     9     8.488411e+00     5.115753e-01\n",
      " * time: 16.625205993652344\n",
      "    10     8.486724e+00     2.836950e-01\n",
      " * time: 17.444184064865112\n",
      "    11     8.465784e+00     3.687649e+00\n",
      " * time: 18.788378953933716\n",
      "    12     7.370309e+00     2.882387e+00\n",
      " * time: 20.138808012008667\n",
      "    13     7.249923e+00     1.096853e+00\n",
      " * time: 20.681750059127808\n",
      "    14     7.245600e+00     3.743189e-02\n",
      " * time: 21.227041006088257\n",
      "    15     7.245497e+00     1.665111e-02\n",
      " * time: 21.79854702949524\n",
      "    16     7.245496e+00     2.118647e-03\n",
      " * time: 22.59468698501587\n",
      "    17     7.245496e+00     1.997947e-03\n",
      " * time: 23.410531044006348\n",
      "    18     7.245496e+00     1.306314e-02\n",
      " * time: 24.494511127471924\n",
      "    19     7.245485e+00     4.465110e-02\n",
      " * time: 25.58507800102234\n",
      "    20     7.245296e+00     1.282008e-01\n",
      " * time: 26.661347150802612\n",
      "    21     7.242936e+00     4.717396e-01\n",
      " * time: 27.748378038406372\n",
      "    22     7.204652e+00     2.180997e+00\n",
      " * time: 28.846195936203003\n",
      "    23     6.861965e+00     5.198852e+00\n",
      " * time: 29.92088007926941\n",
      "    24     6.735037e+00     2.651944e+00\n",
      " * time: 30.466233015060425\n",
      "    25     6.722191e+00     2.515570e-01\n",
      " * time: 31.268682956695557\n",
      "    26     6.721809e+00     1.441564e-02\n",
      " * time: 31.816022157669067\n",
      "    27     6.721792e+00     1.692893e-02\n",
      " * time: 32.35911798477173\n",
      "    28     6.721790e+00     7.075336e-04\n",
      " * time: 33.177201986312866\n",
      "    29     6.721789e+00     1.353424e-03\n",
      " * time: 33.725773096084595\n",
      "    30     6.721789e+00     6.342137e-05\n",
      " * time: 34.25588011741638\n",
      "    31     6.721789e+00     7.886022e-05\n",
      " * time: 35.07569909095764\n",
      "    32     6.721789e+00     3.915144e-05\n",
      " * time: 35.62260413169861\n",
      "    33     6.721789e+00     1.060515e-05\n",
      " * time: 36.46133995056152\n",
      "    34     6.721789e+00     1.457295e-06\n",
      " * time: 36.98636603355408\n",
      "    35     6.721789e+00     9.637463e-07\n",
      " * time: 37.538952112197876\n",
      "    36     6.721789e+00     1.511355e-07\n",
      " * time: 38.08759903907776\n",
      "    37     6.721789e+00     9.467920e-08\n",
      " * time: 38.638680934906006\n",
      "    38     6.721789e+00     2.990399e-08\n",
      " * time: 39.162774085998535\n",
      "    39     6.721789e+00     8.965183e-09\n",
      " * time: 39.71285796165466\n",
      " 61.006205 seconds (817.84 M allocations: 37.663 GiB, 17.91% gc time, 35.46% compilation time)\n"
     ]
    }
   ],
   "source": [
    "N_real    =  6000\n",
    "omega_max =  10.0\n",
    "eta       =  0.001\n",
    "H         =  2\n",
    "@time result    = Nevanlinna.Nevanlinna_Schur(hnw, test_smpl, test_gw, N_real, omega_max, eta, H, true)\n",
    "test_real = result[2]\n",
    ";"
   ]
  },
  {
   "cell_type": "code",
   "execution_count": 14,
   "id": "e95b3ab9",
   "metadata": {},
   "outputs": [
    {
     "name": "stdout",
     "output_type": "stream",
     "text": [
      "N_imag is setted as 5\n",
      "Pick matrix is positive semi-definite.\n"
     ]
    }
   ],
   "source": [
    "N_imag    =  Nevanlinna.calc_opt_N_imag(hnw, test_smpl, test_gw)\n",
    "#N_imag = 36\n",
    "ab_coeff  = zeros(Complex{BigFloat}, 2*H) \n",
    "\n",
    "imaginary = Nevanlinna.ImagDomainData(N_imag, test_smpl, test_gw)\n",
    "pre_reals = Nevanlinna.RealDomainData(N_real, omega_max, eta)\n",
    "\n",
    "phis = Nevanlinna.calc_phis(imaginary)\n",
    "abcd = Nevanlinna.calc_abcd(imaginary, pre_reals, phis)\n",
    "hardy_matrix = Nevanlinna.calc_hardy_matrix(pre_reals, H)\n",
    "\n",
    "Nevanlinna.evaluation(pre_reals, abcd, H, ab_coeff, hardy_matrix)\n",
    ";"
   ]
  },
  {
   "cell_type": "code",
   "execution_count": 18,
   "id": "d3e6f260",
   "metadata": {},
   "outputs": [
    {
     "data": {
      "text/plain": [
       "3.966351590056347"
      ]
     },
     "execution_count": 18,
     "metadata": {},
     "output_type": "execute_result"
    }
   ],
   "source": [
    "tmp =  sum(Float64.(imag.(test_real.val))/pi)*((2.0*test_real.omega_max)/test_real.N_real)\n",
    "abs(1-tmp)^2"
   ]
  },
  {
   "cell_type": "code",
   "execution_count": 19,
   "id": "4cdc4e45",
   "metadata": {},
   "outputs": [
    {
     "data": {
      "image/png": "[encoded data removed]",
      "text/plain": [
       "Figure(PyObject <Figure size 640x480 with 1 Axes>)"
      ]
     },
     "metadata": {},
     "output_type": "display_data"
    },
    {
     "data": {
      "text/plain": [
       "(0.0, 2.0)"
      ]
     },
     "execution_count": 19,
     "metadata": {},
     "output_type": "execute_result"
    }
   ],
   "source": [
    "plt.plot(Float64.(real.((test_real.freq))), Float64.(imag.(test_real.val))/pi)\n",
    "plt.plot(omegas, rho.(omegas))\n",
    "#plt.plot(Float64.(real.((pre_reals.freq))), Float64.(imag.(pre_reals.val))/pi)\n",
    "plt.xlim(0.0,2.0)\n",
    "#plt.ylim(0.0,15)"
   ]
  },
  {
   "cell_type": "code",
   "execution_count": 12,
   "id": "38156b7f",
   "metadata": {},
   "outputs": [],
   "source": [
    "#=\n",
    "mesh = 1024\n",
    "myx = 40*(collect(1:mesh) .- mesh/2) ./ mesh\n",
    "myy = 20*(collect(1:mesh) .- 1) ./ mesh\n",
    "hardy_plot = Array{Complex{BigFloat}}(undef, mesh, mesh) \n",
    "for i in 1:mesh\n",
    "    for j in 1:mesh\n",
    "        hardy_plot[j,i] = hardy_basis(myx[j],myy[i],20)\n",
    "    end\n",
    "end\n",
    "plt.figure(figsize=(3.7,1.5))\n",
    "#plt.pcolormesh(myx, myy, real.(hardy_basis.(myx,myy,1)'), shading=\"auto\")\n",
    "plt.pcolormesh(myx, myy, Float64.(real.(hardy_plot')))\n",
    "#plt.pcolormesh(myx, myy, Float64.(imag.(conj.(hardy_plot)')))\n",
    "ax = plt.gca()\n",
    "ax.set_xlim([-20,20])\n",
    "ax.set_ylim([0,1])\n",
    "#ax.set_aspect(\"equal\")\n",
    "plt.colorbar()\n",
    "plt.show()\n",
    "=#"
   ]
  },
  {
   "cell_type": "code",
   "execution_count": 13,
   "id": "2c33ed4b",
   "metadata": {},
   "outputs": [],
   "source": [
    "#=\n",
    "f = open( \"in_green.dat\", \"w\")\n",
    "for iw in 1:hnw\n",
    "    IR_basis_set.smpl_wn_f.sampling_points[hnw+iw]\n",
    "    omega = IR_basis_set.smpl_wn_f.sampling_points[hnw+iw]*pi/beta\n",
    "    green = gw[hnw+iw]\n",
    "    println(f, \"$omega \\t $(real(green)) \\t $(imag(green))\")\n",
    "end\n",
    "close(f)\n",
    "g = open( \"input.txt\", \"w\")\n",
    "    println(g,\"in_green.dat \\t $hnw \\tout_spec.dat\")\n",
    "close(g)\n",
    "=#\n",
    "#=\n",
    "f = open(\"in_green.dat\", \"r\")\n",
    "for i in 1:hnw\n",
    "    list = readline(f)\n",
    "    s  = split(list,'\\t')\n",
    "    o  = parse(BigFloat, s[1])\n",
    "    re = parse(BigFloat, s[2])\n",
    "    ii = parse(BigFloat, s[3])\n",
    "    test_smpl[i] = o\n",
    "    test_gw[i]   = re + ii*im\n",
    "end\n",
    "close(f)\n",
    "=#"
   ]
  },
  {
   "cell_type": "code",
   "execution_count": null,
   "id": "e2ed34cc",
   "metadata": {},
   "outputs": [],
   "source": []
  }
 ],
 "metadata": {
  "kernelspec": {
   "display_name": "Julia 1.6.3",
   "language": "julia",
   "name": "julia-1.6"
  },
  "language_info": {
   "file_extension": ".jl",
   "mimetype": "application/julia",
   "name": "julia",
   "version": "1.6.3"
  }
 },
 "nbformat": 4,
 "nbformat_minor": 5
}
