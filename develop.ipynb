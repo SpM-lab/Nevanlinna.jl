{
 "cells": [
  {
   "cell_type": "code",
   "execution_count": 1,
   "metadata": {},
   "outputs": [
    {
     "data": {
      "text/plain": [
       "Main.Nevanlinna"
      ]
     },
     "execution_count": 1,
     "metadata": {},
     "output_type": "execute_result"
    }
   ],
   "source": [
    "#To do lambdaの外部入力\n",
    "using SparseIR\n",
    "using PyPlot\n",
    "rcParams = PyPlot.PyDict(PyPlot.matplotlib.\"rcParams\")\n",
    "rcParams[\"text.usetex\"] = true\n",
    "rcParams[\"font.family\"] = \"serif\"\n",
    "rcParams[\"font.size\"] = 16\n",
    "rcParams[\"text.latex.preamble\"] = raw\"\\usepackage{amsmath}\"\n",
    "using LinearAlgebra\n",
    "using Revise\n",
    "using Optim\n",
    "using FFTW\n",
    "using Zygote\n",
    "include(\"./src/Nevanlinna.jl\")"
   ]
  },
  {
   "cell_type": "code",
   "execution_count": 2,
   "metadata": {},
   "outputs": [
    {
     "data": {
      "image/png": "[encoded data removed]",
      "text/plain": [
       "Figure(PyObject <Figure size 640x480 with 1 Axes>)"
      ]
     },
     "metadata": {},
     "output_type": "display_data"
    },
    {
     "data": {
      "text/plain": [
       "1-element Vector{PyCall.PyObject}:\n",
       " PyObject <matplotlib.lines.Line2D object at 0x7f614c319070>"
      ]
     },
     "execution_count": 2,
     "metadata": {},
     "output_type": "execute_result"
    }
   ],
   "source": [
    "gaussian(x, mu, sigma) = exp(-((x-mu)/sigma)^2)/(sqrt(π)*sigma)\n",
    "\n",
    "#on-centered gaussian\n",
    "#rho(omega) = gaussian(omega, 0.0, 0.15)  \n",
    "\n",
    "#rho(omega) = gaussian(omega, 1.0, 0.15) +\n",
    "#    0.4*gaussian(omega, 1.0, 0.8) + 0.4*gaussian(omega, -1.0, 0.8)\n",
    "\n",
    "rho(omega) = 0.4*gaussian(omega, 1.0, 0.5) + \n",
    "    0.4*gaussian(omega, 3.0, 0.8) + 0.2*gaussian(omega, -2.0, 1.0) \n",
    "\n",
    "######\n",
    "\n",
    "#rho(omega) = 0.5*gaussian(omega, -3.0, 1.0) + 0.5*gaussian(omega, 3.0, 1.0) \n",
    "\n",
    "#off-centered gaussian\n",
    "#rho(omega) = gaussian(omega, 0.2, 0.05) \n",
    "\n",
    "omegas = LinRange(-5, 5, 1000)\n",
    "plt.xlabel(L\"\\omega\")\n",
    "plt.ylabel(L\"\\rho(\\omega)\")\n",
    "plt.plot(omegas, rho.(omegas))"
   ]
  },
  {
   "cell_type": "code",
   "execution_count": 3,
   "metadata": {},
   "outputs": [],
   "source": [
    "beta = 100\n",
    "wmax = 1000\n",
    "IR_basis_set = FiniteTempBasisSet(Float64(beta), Float64(wmax), 1e-15) #もともと-7\n",
    "#basis = FiniteTempBasis(fermion, beta, wmax, 1e-7)\n",
    "\n",
    "rhol = [overlap(IR_basis_set.basis_f.v[l], rho) for l in 1:length(IR_basis_set.basis_f)]\n",
    "gl = - IR_basis_set.basis_f.s .* rhol\n",
    ";\n",
    "#=\n",
    "plt.semilogy(abs.(rhol), marker=\"o\", label=L\"|\\rho_l|\")\n",
    "plt.semilogy(abs.(gl), marker=\"x\", label=L\"|g_l|\")\n",
    "plt.xlabel(L\"l\")\n",
    "plt.ylim([1e-5, 1])\n",
    "#plt.legend()\n",
    "=#"
   ]
  },
  {
   "cell_type": "code",
   "execution_count": 4,
   "metadata": {},
   "outputs": [
    {
     "data": {
      "text/plain": [
       "71"
      ]
     },
     "execution_count": 4,
     "metadata": {},
     "output_type": "execute_result"
    }
   ],
   "source": [
    "gw = evaluate(IR_basis_set.smpl_wn_f, gl)\n",
    "hnw = Int64(length(IR_basis_set.smpl_wn_f.sampling_points)/2)"
   ]
  },
  {
   "cell_type": "code",
   "execution_count": 5,
   "metadata": {},
   "outputs": [],
   "source": [
    "setprecision(128)\n",
    ";"
   ]
  },
  {
   "cell_type": "code",
   "execution_count": 6,
   "metadata": {},
   "outputs": [],
   "source": [
    "test_gw   = Array{Complex{BigFloat}}(undef, hnw) \n",
    "test_smpl = Array{BigFloat}(undef, hnw) \n",
    ";"
   ]
  },
  {
   "cell_type": "code",
   "execution_count": 7,
   "metadata": {},
   "outputs": [],
   "source": [
    "for i in 1:hnw\n",
    "    test_smpl[i]= parse(BigFloat, string(IR_basis_set.smpl_wn_f.sampling_points[hnw+i]*pi/beta))\n",
    "    test_gw[i]  = parse(BigFloat, string(real(gw[hnw+i]))) + parse(BigFloat, string(imag(gw[hnw+i])))*im\n",
    "end"
   ]
  },
  {
   "cell_type": "code",
   "execution_count": 8,
   "metadata": {
    "scrolled": false
   },
   "outputs": [
    {
     "name": "stdout",
     "output_type": "stream",
     "text": [
      "N_imag is setted as 31\n",
      "Pick matrix is positive semi-definite.\n",
      "Iter     Function value   Gradient norm \n",
      "     0     7.237505e-02     4.605309e-01\n",
      " * time: 0.06375813484191895\n",
      "     1     2.837085e-02     2.013471e-01\n",
      " * time: 5.329612970352173\n",
      "     2     2.330469e-02     1.766853e-01\n",
      " * time: 7.490983009338379\n",
      "     3     7.865020e-03     5.782257e-02\n",
      " * time: 10.015172004699707\n",
      "     4     3.653160e-03     2.095836e-02\n",
      " * time: 12.529154062271118\n",
      "     5     2.742728e-03     2.130157e-02\n",
      " * time: 15.132412195205688\n",
      "     6     1.987603e-03     2.869715e-02\n",
      " * time: 17.62949013710022\n",
      "     7     6.651300e-04     9.668265e-03\n",
      " * time: 20.99649715423584\n",
      "     8     3.576546e-04     3.587004e-03\n",
      " * time: 23.630226135253906\n",
      "     9     2.971774e-04     3.425954e-03\n",
      " * time: 26.929870128631592\n",
      "    10     2.573050e-04     1.704313e-03\n",
      " * time: 29.749783992767334\n",
      "    11     2.213173e-04     2.948248e-03\n",
      " * time: 34.039889097213745\n",
      "    12     2.045186e-04     7.062331e-04\n",
      " * time: 38.09185004234314\n",
      "    13     2.005539e-04     7.937774e-04\n",
      " * time: 40.81265902519226\n",
      "    14     1.786828e-04     2.388162e-03\n",
      " * time: 44.25356602668762\n",
      "    15     1.684755e-04     6.028001e-04\n",
      " * time: 46.742897033691406\n",
      "    16     1.664264e-04     1.108539e-03\n",
      " * time: 49.8751540184021\n",
      "    17     1.480304e-04     5.794226e-04\n",
      " * time: 53.29587197303772\n",
      "    18     1.468097e-04     3.038944e-04\n",
      " * time: 55.92962908744812\n",
      "    19     1.412690e-04     1.068728e-03\n",
      " * time: 60.5264310836792\n",
      "    20     1.328058e-04     2.784131e-04\n",
      " * time: 64.1550681591034\n",
      "    21     1.323314e-04     3.133044e-04\n",
      " * time: 66.9978940486908\n",
      "    22     1.195697e-04     1.098338e-03\n",
      " * time: 71.80412817001343\n",
      "    23     1.106736e-04     3.909188e-04\n",
      " * time: 74.40507411956787\n",
      "    24     1.092055e-04     9.817143e-04\n",
      " * time: 79.93086409568787\n",
      "    25     8.982338e-05     4.571928e-04\n",
      " * time: 83.29935812950134\n",
      "    26     8.920481e-05     9.970847e-05\n",
      " * time: 85.67490220069885\n",
      "    27     8.889714e-05     2.462715e-04\n",
      " * time: 89.45718598365784\n",
      "    28     8.647685e-05     1.106930e-04\n",
      " * time: 93.29492998123169\n",
      "    29     8.640932e-05     4.468397e-05\n",
      " * time: 96.20563101768494\n",
      "    30     8.635329e-05     7.323612e-05\n",
      " * time: 99.81962418556213\n",
      "    31     8.570317e-05     5.105339e-05\n",
      " * time: 103.85724306106567\n",
      "    32     8.568944e-05     1.428603e-05\n",
      " * time: 106.69413018226624\n",
      "    33     8.564050e-05     1.216551e-04\n",
      " * time: 111.95265507698059\n",
      "    34     7.458201e-05     6.076954e-04\n",
      " * time: 117.27772998809814\n",
      "    35     7.214723e-05     4.435750e-05\n",
      " * time: 120.07219910621643\n",
      "    36     7.211138e-05     5.487144e-06\n",
      " * time: 122.57897520065308\n",
      "    37     7.211109e-05     3.300509e-07\n",
      " * time: 125.42088603973389\n",
      "    38     7.211109e-05     1.916920e-08\n",
      " * time: 128.053316116333\n",
      "    39     7.211109e-05     3.811227e-10\n",
      " * time: 130.5367820262909\n",
      "max_theta=0.3592109930469143338226632505696500463261\n",
      "hardy optimization was success.\n",
      "181.057552 seconds (1.46 G allocations: 66.561 GiB, 19.02% gc time, 26.81% compilation time)\n"
     ]
    }
   ],
   "source": [
    "N_real    =  6000\n",
    "omega_max =  10.0\n",
    "eta       =  0.001\n",
    "H         =  8\n",
    "N_imag    =  Nevanlinna.calc_opt_N_imag(hnw, test_smpl, test_gw)\n",
    "#N_imag = 71\n",
    "@time result    = Nevanlinna.Nevanlinna_Schur(N_imag, test_smpl, test_gw, N_real, omega_max, eta, H, true)\n",
    "opt_real = result[2]\n",
    ";"
   ]
  },
  {
   "cell_type": "code",
   "execution_count": 9,
   "metadata": {},
   "outputs": [
    {
     "name": "stdout",
     "output_type": "stream",
     "text": [
      "Pick matrix is positive semi-definite.\n",
      "max_theta=0.0\n",
      "hardy optimization was success.\n"
     ]
    }
   ],
   "source": [
    "ab_coeff  = zeros(Complex{BigFloat}, 2*H) \n",
    "\n",
    "imaginary = Nevanlinna.ImagDomainData(N_imag, test_smpl, test_gw)\n",
    "raw_reals = Nevanlinna.RealDomainData(N_real, omega_max, eta)\n",
    "\n",
    "phis = Nevanlinna.calc_phis(imaginary)\n",
    "abcd = Nevanlinna.calc_abcd(imaginary, raw_reals, phis)\n",
    "hardy_matrix = Nevanlinna.calc_hardy_matrix(raw_reals, H)\n",
    "\n",
    "Nevanlinna.evaluation(raw_reals, abcd, H, ab_coeff, hardy_matrix)\n",
    ";"
   ]
  },
  {
   "cell_type": "code",
   "execution_count": 10,
   "metadata": {},
   "outputs": [
    {
     "data": {
      "text/plain": [
       "5.469403926026219e-8"
      ]
     },
     "execution_count": 10,
     "metadata": {},
     "output_type": "execute_result"
    }
   ],
   "source": [
    "tmp =  sum(Float64.(imag.(opt_real.val))/pi)*((2.0*opt_real.omega_max)/opt_real.N_real)\n",
    "abs(1-tmp)^2"
   ]
  },
  {
   "cell_type": "code",
   "execution_count": 11,
   "metadata": {},
   "outputs": [
    {
     "data": {
      "image/png": "[encoded data removed]",
      "text/plain": [
       "Figure(PyObject <Figure size 640x480 with 1 Axes>)"
      ]
     },
     "metadata": {},
     "output_type": "display_data"
    },
    {
     "data": {
      "text/plain": [
       "(-5.0, 5.0)"
      ]
     },
     "execution_count": 11,
     "metadata": {},
     "output_type": "execute_result"
    }
   ],
   "source": [
    "plt.plot(Float64.(real.((opt_real.freq))), Float64.(imag.(opt_real.val))/pi)\n",
    "plt.plot(omegas, rho.(omegas))\n",
    "#plt.plot(Float64.(real.((raw_reals.freq))), Float64.(imag.(raw_reals.val))/pi)\n",
    "plt.xlim(-5,5)\n",
    "#plt.ylim(0.0,50)"
   ]
  },
  {
   "cell_type": "code",
   "execution_count": 12,
   "metadata": {},
   "outputs": [],
   "source": [
    "#=\n",
    "mesh = 1024\n",
    "myx = 40*(collect(1:mesh) .- mesh/2) ./ mesh\n",
    "myy = 20*(collect(1:mesh) .- 1) ./ mesh\n",
    "hardy_plot = Array{Complex{BigFloat}}(undef, mesh, mesh) \n",
    "for i in 1:mesh\n",
    "    for j in 1:mesh\n",
    "        hardy_plot[j,i] = hardy_basis(myx[j],myy[i],20)\n",
    "    end\n",
    "end\n",
    "plt.figure(figsize=(3.7,1.5))\n",
    "#plt.pcolormesh(myx, myy, real.(hardy_basis.(myx,myy,1)'), shading=\"auto\")\n",
    "plt.pcolormesh(myx, myy, Float64.(real.(hardy_plot')))\n",
    "#plt.pcolormesh(myx, myy, Float64.(imag.(conj.(hardy_plot)')))\n",
    "ax = plt.gca()\n",
    "ax.set_xlim([-20,20])\n",
    "ax.set_ylim([0,1])\n",
    "#ax.set_aspect(\"equal\")\n",
    "plt.colorbar()\n",
    "plt.show()\n",
    "=#"
   ]
  },
  {
   "cell_type": "code",
   "execution_count": 13,
   "metadata": {},
   "outputs": [],
   "source": [
    "#=\n",
    "f = open( \"in_green.dat\", \"w\")\n",
    "for iw in 1:hnw\n",
    "    IR_basis_set.smpl_wn_f.sampling_points[hnw+iw]\n",
    "    omega = IR_basis_set.smpl_wn_f.sampling_points[hnw+iw]*pi/beta\n",
    "    green = gw[hnw+iw]\n",
    "    println(f, \"$omega \\t $(real(green)) \\t $(imag(green))\")\n",
    "end\n",
    "close(f)\n",
    "g = open( \"input.txt\", \"w\")\n",
    "    println(g,\"in_green.dat \\t $hnw \\tout_spec.dat\")\n",
    "close(g)\n",
    "=#\n",
    "#=\n",
    "f = open(\"in_green.dat\", \"r\")\n",
    "for i in 1:hnw\n",
    "    list = readline(f)\n",
    "    s  = split(list,'\\t')\n",
    "    o  = parse(BigFloat, s[1])\n",
    "    re = parse(BigFloat, s[2])\n",
    "    ii = parse(BigFloat, s[3])\n",
    "    test_smpl[i] = o\n",
    "    test_gw[i]   = re + ii*im\n",
    "end\n",
    "close(f)\n",
    "=#"
   ]
  }
 ],
 "metadata": {
  "kernelspec": {
   "display_name": "Julia 1.6.3",
   "language": "julia",
   "name": "julia-1.6"
  },
  "language_info": {
   "file_extension": ".jl",
   "mimetype": "application/julia",
   "name": "julia",
   "version": "1.6.3"
  }
 },
 "nbformat": 4,
 "nbformat_minor": 5
}
