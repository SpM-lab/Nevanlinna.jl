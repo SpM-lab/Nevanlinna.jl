{
 "cells": [
  {
   "cell_type": "code",
   "execution_count": 1,
   "metadata": {},
   "outputs": [],
   "source": [
    "using Plots\n",
    "using LaTeXStrings"
   ]
  },
  {
   "cell_type": "code",
   "execution_count": 2,
   "metadata": {},
   "outputs": [],
   "source": [
    "f = open(\"delta_wo_opt.dat\", \"r\")\n",
    "delta = split.(readlines(f),'\\t')\n",
    "wo_delta_omega = parse.(Float64, collect(Iterators.flatten(delta))[1:2:end])\n",
    "wo_delta_val = parse.(Float64,collect(Iterators.flatten(delta))[2:2:end])\n",
    "close(f)\n",
    "f = open(\"delta_exact.dat\", \"r\")\n",
    "delta = split.(readlines(f),'\\t')\n",
    "ex_delta_omega = parse.(Float64, collect(Iterators.flatten(delta))[1:2:end])\n",
    "ex_delta_val = parse.(Float64,collect(Iterators.flatten(delta))[2:2:end])\n",
    "close(f)"
   ]
  },
  {
   "cell_type": "code",
   "execution_count": 3,
   "metadata": {},
   "outputs": [],
   "source": [
    "f = open(\"gauss_wo_opt.dat\", \"r\")\n",
    "gauss = split.(readlines(f),'\\t')\n",
    "wo_gauss_omega = parse.(Float64, collect(Iterators.flatten(gauss))[1:2:end])\n",
    "wo_gauss_val = parse.(Float64,collect(Iterators.flatten(gauss))[2:2:end])\n",
    "close(f)\n",
    "f = open(\"gauss_w_opt.dat\", \"r\")\n",
    "gauss = split.(readlines(f),'\\t')\n",
    "w_gauss_omega = parse.(Float64, collect(Iterators.flatten(gauss))[1:2:end])\n",
    "w_gauss_val = parse.(Float64,collect(Iterators.flatten(gauss))[2:2:end])\n",
    "close(f)\n",
    "f = open(\"gauss_exact.dat\", \"r\")\n",
    "gauss = split.(readlines(f),'\\t')\n",
    "ex_gauss_omega = parse.(Float64, collect(Iterators.flatten(gauss))[1:2:end])\n",
    "ex_gauss_val = parse.(Float64,collect(Iterators.flatten(gauss))[2:2:end])\n",
    "close(f)"
   ]
  },
  {
   "cell_type": "code",
   "execution_count": 4,
   "metadata": {},
   "outputs": [],
   "source": [
    "f = open(\"lorentz_wo_opt.dat\", \"r\")\n",
    "lorentz = split.(readlines(f),'\\t')\n",
    "wo_lorentz_omega = parse.(Float64, collect(Iterators.flatten(lorentz))[1:2:end])\n",
    "wo_lorentz_val = parse.(Float64,collect(Iterators.flatten(lorentz))[2:2:end])\n",
    "close(f)\n",
    "f = open(\"lorentz_w_opt.dat\", \"r\")\n",
    "lorentz = split.(readlines(f),'\\t')\n",
    "w_lorentz_omega = parse.(Float64, collect(Iterators.flatten(lorentz))[1:2:end])\n",
    "w_lorentz_val = parse.(Float64,collect(Iterators.flatten(lorentz))[2:2:end])\n",
    "close(f)\n",
    "f = open(\"lorentz_exact.dat\", \"r\")\n",
    "lorentz = split.(readlines(f),'\\t')\n",
    "ex_lorentz_omega = parse.(Float64, collect(Iterators.flatten(lorentz))[1:2:end])\n",
    "ex_lorentz_val = parse.(Float64,collect(Iterators.flatten(lorentz))[2:2:end])\n",
    "close(f)"
   ]
  },
  {
   "cell_type": "code",
   "execution_count": 5,
   "metadata": {},
   "outputs": [],
   "source": [
    "f = open(\"twopeak_wo_opt.dat\", \"r\")\n",
    "twopeak = split.(readlines(f),'\\t')\n",
    "wo_twopeak_omega = parse.(Float64, collect(Iterators.flatten(twopeak))[1:2:end])\n",
    "wo_twopeak_val = parse.(Float64,collect(Iterators.flatten(twopeak))[2:2:end])\n",
    "close(f)\n",
    "f = open(\"twopeak_w_opt.dat\", \"r\")\n",
    "twopeak = split.(readlines(f),'\\t')\n",
    "w_twopeak_omega = parse.(Float64, collect(Iterators.flatten(twopeak))[1:2:end])\n",
    "w_twopeak_val = parse.(Float64,collect(Iterators.flatten(twopeak))[2:2:end])\n",
    "close(f)\n",
    "f = open(\"twopeak_exact.dat\", \"r\")\n",
    "twopeak = split.(readlines(f),'\\t')\n",
    "ex_twopeak_omega = parse.(Float64, collect(Iterators.flatten(twopeak))[1:2:end])\n",
    "ex_twopeak_val = parse.(Float64,collect(Iterators.flatten(twopeak))[2:2:end])\n",
    "close(f)"
   ]
  },
  {
   "cell_type": "code",
   "execution_count": 6,
   "metadata": {},
   "outputs": [],
   "source": [
    "f = open(\"kondo_wo_opt.dat\", \"r\")\n",
    "kondo = split.(readlines(f),'\\t')\n",
    "wo_kondo_omega = parse.(Float64, collect(Iterators.flatten(kondo))[1:2:end])\n",
    "wo_kondo_val = parse.(Float64,collect(Iterators.flatten(kondo))[2:2:end])\n",
    "close(f)\n",
    "f = open(\"kondo_w_opt.dat\", \"r\")\n",
    "kondo = split.(readlines(f),'\\t')\n",
    "w_kondo_omega = parse.(Float64, collect(Iterators.flatten(kondo))[1:2:end])\n",
    "w_kondo_val = parse.(Float64,collect(Iterators.flatten(kondo))[2:2:end])\n",
    "close(f)\n",
    "f = open(\"kondo_exact.dat\", \"r\")\n",
    "kondo = split.(readlines(f),'\\t')\n",
    "ex_kondo_omega = parse.(Float64, collect(Iterators.flatten(kondo))[1:2:end])\n",
    "ex_kondo_val = parse.(Float64,collect(Iterators.flatten(kondo))[2:2:end])\n",
    "close(f)"
   ]
  },
  {
   "cell_type": "code",
   "execution_count": 7,
   "metadata": {},
   "outputs": [],
   "source": [
    "f = open(\"hubbard_wo_opt.dat\", \"r\")\n",
    "hubbard = split.(readlines(f),'\\t')\n",
    "wo_hubbard_omega = parse.(Float64, collect(Iterators.flatten(hubbard))[1:2:end])\n",
    "wo_hubbard_val = parse.(Float64,collect(Iterators.flatten(hubbard))[2:2:end])\n",
    "close(f)\n",
    "f = open(\"hubbard_w_opt.dat\", \"r\")\n",
    "hubbard = split.(readlines(f),'\\t')\n",
    "w_hubbard_omega = parse.(Float64, collect(Iterators.flatten(hubbard))[1:2:end])\n",
    "w_hubbard_val = parse.(Float64,collect(Iterators.flatten(hubbard))[2:2:end])\n",
    "close(f)\n",
    "f = open(\"hubbard_exact.dat\", \"r\")\n",
    "hubbard = split.(readlines(f),'\\t')\n",
    "ex_hubbard_omega = parse.(Float64, collect(Iterators.flatten(hubbard))[1:2:end])\n",
    "ex_hubbard_val = parse.(Float64,collect(Iterators.flatten(hubbard))[2:2:end])\n",
    "close(f)"
   ]
  },
  {
   "cell_type": "code",
   "execution_count": 100,
   "metadata": {},
   "outputs": [
    {
     "data": {
      "text/plain": [
       "\"/home/kosuke/work/Nevanlinna.jl/notebooks/data/examples.pdf\""
      ]
     },
     "execution_count": 100,
     "metadata": {},
     "output_type": "execute_result"
    }
   ],
   "source": [
    "plt1 = plot(\n",
    "    legend = false,\n",
    "#    yticks = [3,0],\n",
    "    framestyle=:box,\n",
    "    title = latexstring(\"\\\\delta \\\\, \\\\, \\\\, \\\\mathrm{function}\"),\n",
    "    )\n",
    "plot!(wo_delta_omega, wo_delta_val, lw = 2.5, label = \"w/o opt\")\n",
    "plot!(ex_delta_omega, ex_delta_val, label=\"exact\",lw=1.5, ls=:dash,lc=:black)\n",
    "plot!(annotations=(-8.3, 3.3, (\"(a)\", 13, 0.0, :bottom),\"Times\"))\n",
    "\n",
    "plt2 = plot(\n",
    "    legend = false,\n",
    "#    yticks = [0.3,0],\n",
    "    framestyle=:box,\n",
    "    title = latexstring(\"\\\\mathrm{Gaussian}\"),\n",
    "    )\n",
    "plot!(wo_gauss_omega, wo_gauss_val, lw = 2.5, label = \"w/o opt\")\n",
    "plot!(w_gauss_omega, w_gauss_val, lw = 2.5, label = \"w opt\")\n",
    "plot!(ex_gauss_omega, ex_gauss_val, label=\"exact\",lw=1.5, ls=:dash,lc=:black)\n",
    "plot!(annotations=(-8.9, 0.56, (\"(b)\", 13, 0.0, :bottom),\"Times\"))\n",
    "\n",
    "\n",
    "plt3 = plot(\n",
    "#    legend = false,\n",
    "#    yticks = [0.3,0],\n",
    "    framestyle=:box,\n",
    "    title = latexstring(\"\\\\mathrm{Lorentzian}\"),\n",
    "    )\n",
    "plot!(wo_lorentz_omega, wo_lorentz_val, lw = 2.5, label = \"w/o opt\")\n",
    "plot!(w_lorentz_omega, w_lorentz_val, lw = 2.5, label = \"w opt\")\n",
    "plot!(ex_lorentz_omega, ex_lorentz_val, label=\"exact\",lw=1.5, ls=:dash,lc=:black)\n",
    "plot!(annotations=(-8.9, 0.33, (\"(c)\", 13, 0.0, :bottom),\"Times\"))\n",
    "\n",
    "plt4 = plot(\n",
    "    legend = false,\n",
    "    yticks = [1., 0],\n",
    "    framestyle=:box,\n",
    "    title = latexstring(\"\\\\mathrm{Two} \\\\,\\\\,\\\\, \\\\mathrm{peak}\"),\n",
    "    )\n",
    "plot!(wo_twopeak_omega, wo_twopeak_val, lw = 2.5, label = \"w/o opt\")\n",
    "plot!(w_twopeak_omega, w_twopeak_val, lw = 2.5, label = \"w opt\")\n",
    "plot!(ex_twopeak_omega, ex_twopeak_val, label=\"exact\",lw=1.5, ls=:dash,lc=:black)\n",
    "plot!(annotations=(-8.3, 1.45, (\"(d)\", 13, 0.0, :bottom),\"Times\"))\n",
    "\n",
    "plt5 = plot(\n",
    "    legend = false,\n",
    "    yticks = [1., 0.5, 0],\n",
    "    framestyle=:box,\n",
    "    title = latexstring(\"\\\\mathrm{Kondo} \\\\,\\\\,\\\\, \\\\mathrm{resonance}\"),\n",
    "    )\n",
    "plot!(wo_kondo_omega, wo_kondo_val, lw = 2.5, label = \"w/o opt\")\n",
    "plot!(w_kondo_omega, w_kondo_val, lw = 2.5, label = \"w opt\")\n",
    "plot!(ex_kondo_omega, ex_kondo_val, label=\"exact\",lw=1.5, ls=:dash,lc=:black)\n",
    "plot!(annotations=(-8.9, 1.22, (\"(e)\", 13, 0.0, :bottom),\"Times\"))\n",
    "\n",
    "plt6 = plot(\n",
    "    legend = false,\n",
    "#    yticks = [1., 0.5, 0],\n",
    "    framestyle=:box,\n",
    "    title = latexstring(\"\\\\mathrm{Hubbard} \\\\,\\\\,\\\\, \\\\mathrm{gap}\"),\n",
    "    )\n",
    "plot!(wo_hubbard_omega, wo_hubbard_val, lw = 2.5, label = \"w/o opt\")\n",
    "plot!(w_hubbard_omega, w_hubbard_val, lw = 2.5, label = \"w opt\")\n",
    "plot!(ex_hubbard_omega, ex_hubbard_val, label=\"exact\",lw=1.5, ls=:dash,lc=:black)\n",
    "plot!(annotations=(-8.9, 0.93, (\"(f)\", 13, 0.0, :bottom),\"Times\"))\n",
    "\n",
    "\n",
    "plot(plt1, plt2, plt3, plt4, plt5, plt6, layout = (2, 3),\n",
    "    size = (740,500),\n",
    "    xlim = [-6,6],\n",
    "    xticks = [-5,0,5],\n",
    "    titlefont = font(13),\n",
    "    legendfont=font(10, \"Times\"),\n",
    "    guidefont=font(13), \n",
    "    xtickfont=font(10, \"Times\"), \n",
    "    ytickfont=font(10, \"Times\"), \n",
    "    ylabel=latexstring(\"\\\\rho(\\\\omega)\"),\n",
    "    xlabel=latexstring(\"\\\\omega\"),\n",
    ")\n",
    "savefig(\"examples.pdf\")"
   ]
  },
  {
   "cell_type": "code",
   "execution_count": 9,
   "metadata": {},
   "outputs": [
    {
     "ename": "LoadError",
     "evalue": "UndefVarError: wo_sol not defined",
     "output_type": "error",
     "traceback": [
      "UndefVarError: wo_sol not defined",
      "",
      "Stacktrace:",
      " [1] top-level scope",
      "   @ In[9]:16"
     ]
    }
   ],
   "source": [
    "plot(xlim = [-6,6],\n",
    "    legend = :topright,\n",
    "    #ymirror = true, \n",
    "    #xmirror = true, \n",
    "    xticks = [5,0,-5],\n",
    "    yticks = [3,0],\n",
    "    xtickfont=font(15), \n",
    "    ytickfont=font(15), \n",
    "    guidefont=font(25), \n",
    "    legendfont=font(20),\n",
    "    framestyle=:box,\n",
    "    size = (400,200)\n",
    "    )\n",
    "plot!(xlabel=latexstring(\"\\\\omega\"))\n",
    "plot!(ylabel=latexstring(\"\\\\rho(\\\\omega)\"))\n",
    "plot!(real.(wo_sol.reals.freq), imag.(wo_sol.reals.val/pi),label=\"without-opt\",lw=3)\n",
    "plot!(omegas, rho.(omegas), label=\"exact\",lw=1.5,ls=:dash,lc=:black)\n",
    "#savefig(\"delta_function.svg\")"
   ]
  }
 ],
 "metadata": {
  "kernelspec": {
   "display_name": "Julia 1.8.5",
   "language": "julia",
   "name": "julia-1.8"
  },
  "language_info": {
   "file_extension": ".jl",
   "mimetype": "application/julia",
   "name": "julia",
   "version": "1.8.5"
  }
 },
 "nbformat": 4,
 "nbformat_minor": 4
}
