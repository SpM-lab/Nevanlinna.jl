{
 "cells": [
  {
   "cell_type": "code",
   "execution_count": 1,
   "metadata": {
    "scrolled": true
   },
   "outputs": [],
   "source": [
    "#To do lambdaの外部入力\n",
    "using Plots\n",
    "using LinearAlgebra\n",
    "using Revise\n",
    "using Optim\n",
    "#using FFTW\n",
    "using Zygote\n",
    "using Nevanlinna\n",
    "using LaTeXStrings\n",
    "using MultiFloats\n",
    "using SparseIR\n",
    "#using DoubleFloats"
   ]
  },
  {
   "cell_type": "code",
   "execution_count": 2,
   "metadata": {},
   "outputs": [
    {
     "data": {
      "text/plain": [
       "BigFloat"
      ]
     },
     "execution_count": 2,
     "metadata": {},
     "output_type": "execute_result"
    }
   ],
   "source": [
    "# Set work data Type\n",
    "#T = Float64x2\n",
    "T = BigFloat"
   ]
  },
  {
   "cell_type": "code",
   "execution_count": null,
   "metadata": {},
   "outputs": [],
   "source": [
    "gaussian(x, mu, sigma) = exp(-((x-mu)/sigma)^2)/(sqrt(π)*sigma)\n",
    "lorentzian(x, mu, gamma) = gamma/(pi*(gamma^2+(x-mu)^2))\n",
    "\n",
    "#on-centered gaussian\n",
    "#rho(omega) = gaussian(omega, 0.0, 0.15)  \n",
    "\n",
    "#rho(omega) = 0.8*gaussian(omega, -1.0, 1.6) + 0.2*gaussian(omega, 3, 1)\n",
    "\n",
    "rho(omega) = 0.4*gaussian(omega, 1.0, 0.5) + \n",
    "    0.4*gaussian(omega, 3.0, 0.8) + 0.2*gaussian(omega, -2.0, 1.0) \n",
    "\n",
    "\n",
    "#rho(omega) = 0.5*gaussian(omega, -3.0, 1.0) + 0.5*gaussian(omega, 3.0, 1.0) \n",
    "\n",
    "omegas = LinRange(-5, 5, 1000)\n",
    "#plt.xlabel(L\"\\omega\")\n",
    "#plt.ylabel(L\"\\rho(\\omega)\")\n",
    "#plt.plot(omegas, rho.(omegas))\n",
    "plot(omegas, rho.(omegas), xlabel=latexstring(\"\\\\omega\"), ylabel=latexstring(\"\\\\rho(\\\\omega)\"))"
   ]
  },
  {
   "cell_type": "code",
   "execution_count": null,
   "metadata": {},
   "outputs": [],
   "source": [
    "setprecision(512)\n",
    ";"
   ]
  },
  {
   "cell_type": "code",
   "execution_count": null,
   "metadata": {},
   "outputs": [],
   "source": [
    "beta = 100\n",
    "wmax = 10\n",
    "IR_basis_set = FiniteTempBasisSet(Float64(beta), Float64(wmax), 1e-15) #もともと-7\n",
    "#basis = FiniteTempBasis(fermion, beta, wmax, 1e-7)\n",
    "\n",
    "rhol = [overlap(IR_basis_set.basis_f.v[l], rho) for l in 1:length(IR_basis_set.basis_f)]\n",
    "gl = - IR_basis_set.basis_f.s .* big.(rhol)\n",
    ";"
   ]
  },
  {
   "cell_type": "code",
   "execution_count": null,
   "metadata": {},
   "outputs": [],
   "source": [
    "#off-centered delta function\n",
    "#rhol = (IR_basis_set.basis_f.v(0.2))\n",
    "#gl = - IR_basis_set.basis_f.s .* rhol\n",
    ";"
   ]
  },
  {
   "cell_type": "code",
   "execution_count": null,
   "metadata": {},
   "outputs": [],
   "source": [
    "gw = evaluate(IR_basis_set.smpl_wn_f, gl)\n",
    "hnw = length(IR_basis_set.smpl_wn_f.sampling_points)÷2"
   ]
  },
  {
   "cell_type": "code",
   "execution_count": null,
   "metadata": {},
   "outputs": [],
   "source": [
    "test_gw   = Array{Complex{T}}(undef, hnw) \n",
    "test_smpl = Array{Complex{T}}(undef, hnw) \n",
    ";"
   ]
  },
  {
   "cell_type": "code",
   "execution_count": null,
   "metadata": {},
   "outputs": [],
   "source": [
    "for i in 1:hnw\n",
    "    test_smpl[i]= im*IR_basis_set.smpl_wn_f.sampling_points[hnw+i]*pi/beta\n",
    "    test_gw[i]  = gw[hnw+i]\n",
    "end"
   ]
  },
  {
   "cell_type": "code",
   "execution_count": null,
   "metadata": {
    "scrolled": true
   },
   "outputs": [],
   "source": [
    "N_real    =  1000\n",
    "omega_max =  10.0\n",
    "eta       =  0.001\n",
    "H         =  50\n",
    "ab_coeff  = zeros(ComplexF64, 2*H) \n",
    "lambda    = 1e-5\n",
    "N_imag    =  Nevanlinna.calc_opt_N_imag(hnw, test_smpl, test_gw)\n",
    "N_imag = 38\n",
    "println(\"N_imp $(N_imag)\")\n",
    ";"
   ]
  },
  {
   "cell_type": "code",
   "execution_count": null,
   "metadata": {
    "scrolled": true
   },
   "outputs": [],
   "source": [
    "@time sol = Nevanlinna.NevanlinnaSolver(N_imag, test_smpl, test_gw, N_real, omega_max, eta, H, lambda, true)\n",
    ";"
   ]
  },
  {
   "cell_type": "code",
   "execution_count": null,
   "metadata": {},
   "outputs": [],
   "source": [
    "@time Nevanlinna.solve(sol)"
   ]
  },
  {
   "cell_type": "code",
   "execution_count": null,
   "metadata": {},
   "outputs": [],
   "source": [
    "#ab_coeff  = zeros(Complex{T}, 2*H) \n",
    "\n",
    "imaginary = Nevanlinna.ImagDomainData(test_smpl, test_gw, N_imag)\n",
    "raw_reals = Nevanlinna.RealDomainData(N_real, omega_max, eta, T=T)\n",
    "println(typeof(imaginary))\n",
    "println(typeof(raw_reals))\n",
    "\n",
    "phis = Nevanlinna.calc_phis(imaginary)\n",
    "abcd = Nevanlinna.calc_abcd(imaginary, raw_reals, phis)\n",
    "hardy_matrix = Nevanlinna.calc_hardy_matrix(raw_reals, H)\n",
    "\n",
    "Nevanlinna.evaluation(raw_reals, abcd, H, ab_coeff, hardy_matrix)\n",
    ";"
   ]
  },
  {
   "cell_type": "code",
   "execution_count": null,
   "metadata": {},
   "outputs": [],
   "source": [
    "plot(real.(raw_reals.freq), imag.(raw_reals.val))\n",
    "#plot!(omegas, rho.(omegas))"
   ]
  },
  {
   "cell_type": "code",
   "execution_count": null,
   "metadata": {},
   "outputs": [],
   "source": [
    "plot()\n",
    "plot!(Float64.(real.((sol.reals.freq))), Float64.(imag.(sol.reals.val))/pi)\n",
    "plot!(omegas, rho.(omegas))\n",
    "#savefig(\"picture.png\")"
   ]
  },
  {
   "cell_type": "code",
   "execution_count": null,
   "metadata": {},
   "outputs": [],
   "source": [
    "#=\n",
    "mesh = 1024\n",
    "myx = 40*(collect(1:mesh) .- mesh/2) ./ mesh\n",
    "myy = 20*(collect(1:mesh) .- 1) ./ mesh\n",
    "hardy_plot = Array{Complex{BigFloat}}(undef, mesh, mesh) \n",
    "for i in 1:mesh\n",
    "    for j in 1:mesh\n",
    "        hardy_plot[j,i] = hardy_basis(myx[j],myy[i],20)\n",
    "    end\n",
    "end\n",
    "plt.figure(figsize=(3.7,1.5))\n",
    "#plt.pcolormesh(myx, myy, real.(hardy_basis.(myx,myy,1)'), shading=\"auto\")\n",
    "plt.pcolormesh(myx, myy, Float64.(real.(hardy_plot')))\n",
    "#plt.pcolormesh(myx, myy, Float64.(imag.(conj.(hardy_plot)')))\n",
    "ax = plt.gca()\n",
    "ax.set_xlim([-20,20])\n",
    "ax.set_ylim([0,1])\n",
    "#ax.set_aspect(\"equal\")\n",
    "plt.colorbar()\n",
    "plt.show()\n",
    "=#"
   ]
  },
  {
   "cell_type": "code",
   "execution_count": null,
   "metadata": {},
   "outputs": [],
   "source": [
    "#=\n",
    "f = open( \"in_green.dat\", \"w\")\n",
    "for iw in 1:hnw\n",
    "    IR_basis_set.smpl_wn_f.sampling_points[hnw+iw]\n",
    "    omega = IR_basis_set.smpl_wn_f.sampling_points[hnw+iw]*pi/beta\n",
    "    green = gw[hnw+iw]\n",
    "    println(f, \"$omega \\t $(real(green)) \\t $(imag(green))\")\n",
    "end\n",
    "close(f)\n",
    "g = open( \"input.txt\", \"w\")\n",
    "    println(g,\"in_green.dat \\t $hnw \\tout_spec.dat\")\n",
    "close(g)\n",
    "=#\n",
    "#=\n",
    "f = open(\"in_green.dat\", \"r\")\n",
    "for i in 1:hnw\n",
    "    list = readline(f)\n",
    "    s  = split(list,'\\t')\n",
    "    o  = parse(BigFloat, s[1])\n",
    "    re = parse(BigFloat, s[2])\n",
    "    ii = parse(BigFloat, s[3])\n",
    "    test_smpl[i] = o\n",
    "    test_gw[i]   = re + ii*im\n",
    "end\n",
    "close(f)\n",
    "=#"
   ]
  },
  {
   "cell_type": "code",
   "execution_count": null,
   "metadata": {},
   "outputs": [],
   "source": []
  }
 ],
 "metadata": {
  "kernelspec": {
   "display_name": "Julia 1.7.3",
   "language": "julia",
   "name": "julia-1.7"
  },
  "language_info": {
   "file_extension": ".jl",
   "mimetype": "application/julia",
   "name": "julia",
   "version": "1.7.3"
  }
 },
 "nbformat": 4,
 "nbformat_minor": 5
}
