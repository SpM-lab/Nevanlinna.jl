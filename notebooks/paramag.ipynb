{
 "cells": [
  {
   "cell_type": "code",
   "execution_count": 1,
   "metadata": {},
   "outputs": [],
   "source": [
    "using Plots\n",
    "using LinearAlgebra\n",
    "using Revise\n",
    "using Optim\n",
    "using Zygote\n",
    "using LaTeXStrings\n",
    "using MultiFloats\n",
    "using SparseIR\n",
    "using Nevanlinna"
   ]
  },
  {
   "cell_type": "code",
   "execution_count": 2,
   "metadata": {},
   "outputs": [
    {
     "data": {
      "text/plain": [
       "BigFloat"
      ]
     },
     "execution_count": 2,
     "metadata": {},
     "output_type": "execute_result"
    }
   ],
   "source": [
    "T = BigFloat"
   ]
  },
  {
   "cell_type": "code",
   "execution_count": 3,
   "metadata": {},
   "outputs": [
    {
     "data": {
      "text/plain": [
       "FiniteTempBasisSet: beta=100.0, wmax=10.0"
      ]
     },
     "execution_count": 3,
     "metadata": {},
     "output_type": "execute_result"
    }
   ],
   "source": [
    "beta::Float64 = 100\n",
    "wmax::Float64 = 10\n",
    "IR_basis_set = FiniteTempBasisSet(Float64(beta), Float64(wmax), 1e-15) "
   ]
  },
  {
   "cell_type": "code",
   "execution_count": 4,
   "metadata": {},
   "outputs": [
    {
     "data": {
      "text/plain": [
       "decomp"
      ]
     },
     "execution_count": 4,
     "metadata": {},
     "output_type": "execute_result"
    }
   ],
   "source": [
    "include(\"../flex_src/single_struct.jl\")\n",
    "include(\"../flex_src/single_orb.jl\")\n",
    "include(\"../flex_src/util.jl\")"
   ]
  },
  {
   "cell_type": "code",
   "execution_count": 6,
   "metadata": {},
   "outputs": [
    {
     "ename": "LoadError",
     "evalue": "UndefVarError: β not defined",
     "output_type": "error",
     "traceback": [
      "UndefVarError: β not defined",
      "",
      "Stacktrace:",
      " [1] getproperty(x::Module, f::Symbol)",
      "   @ Base ./Base.jl:31",
      " [2] top-level scope",
      "   @ In[6]:6",
      " [3] eval",
      "   @ ./boot.jl:368 [inlined]",
      " [4] include_string(mapexpr::typeof(REPL.softscope), mod::Module, code::String, filename::String)",
      "   @ Base ./loading.jl:1428"
     ]
    }
   ],
   "source": [
    "nsize::Int64 = 64\n",
    "t_pra::Float64 = 0.3\n",
    "filling::Float64 = 0.85\n",
    "U = 2.0\n",
    "hami = (x,y) -> single_Hami(x,y,t_pra)\n",
    "lat = SingleLatticeModel(nsize, filling, U, SparseIR.β(IR_basis_set), hami)"
   ]
  },
  {
   "cell_type": "code",
   "execution_count": 9,
   "metadata": {},
   "outputs": [
    {
     "name": "stderr",
     "output_type": "stream",
     "text": [
      "┌ Warning: /home/kosuke/.julia/packages/SparseIR/hZp6V/src/spr.jl no longer exists, deleted all methods\n",
      "└ @ Revise /home/kosuke/.julia/packages/Revise/do2nH/src/packagedef.jl:659\n",
      "┌ Warning: /home/kosuke/.julia/packages/SparseIR/hZp6V/src/composite.jl no longer exists, deleted all methods\n",
      "└ @ Revise /home/kosuke/.julia/packages/Revise/do2nH/src/packagedef.jl:659\n",
      "WARNING: import of Bessels.sphericalbesselj into SparseIR conflicts with an existing identifier; ignored.\n",
      "┌ Error: Failed to revise /home/kosuke/.julia/packages/SparseIR/hZp6V/src/SparseIR.jl\n",
      "│   exception = Revise.ReviseEvalException(\"/home/kosuke/work/Nevanlinna_f/notebooks/none:0\", ErrorException(\"invalid redefinition of constant Statistics\"), Any[(top-level scope at none:1, 1)])\n",
      "└ @ Revise /home/kosuke/.julia/packages/Revise/do2nH/src/packagedef.jl:715\n",
      "┌ Error: Failed to revise /home/kosuke/.julia/packages/SparseIR/hZp6V/src/basis.jl\n",
      "│   exception = Revise.ReviseEvalException(\"/home/kosuke/work/Nevanlinna_f/notebooks/none:0\", TypeError(Symbol(\"Type{...} expression\"), \"\", UnionAll, SparseIR.AbstractBasis), Any[(top-level scope at none:0, 1)])\n",
      "└ @ Revise /home/kosuke/.julia/packages/Revise/do2nH/src/packagedef.jl:715\n",
      "\u001b[91m\u001b[1mUnhandled Task \u001b[22m\u001b[39m\u001b[91m\u001b[1mERROR: \u001b[22m\u001b[39mInterruptException:\n",
      "Stacktrace:\n",
      " [1] \u001b[0m\u001b[1mlookup\u001b[22m\u001b[0m\u001b[1m(\u001b[22m\u001b[90mpointer\u001b[39m::\u001b[0mPtr\u001b[90m{Nothing}\u001b[39m\u001b[0m\u001b[1m)\u001b[22m\n",
      "\u001b[90m   @ \u001b[39m\u001b[90mBase.StackTraces\u001b[39m \u001b[90m./\u001b[39m\u001b[90m\u001b[4mstacktraces.jl:107\u001b[24m\u001b[39m\n",
      " [2] \u001b[0m\u001b[1mprocess_backtrace\u001b[22m\u001b[0m\u001b[1m(\u001b[22m\u001b[90mt\u001b[39m::\u001b[0mVector\u001b[90m{Union{Ptr{Nothing}, Base.InterpreterIP}}\u001b[39m, \u001b[90mlimit\u001b[39m::\u001b[0mInt64; \u001b[90mskipC\u001b[39m::\u001b[0mBool\u001b[0m\u001b[1m)\u001b[22m\n",
      "\u001b[90m   @ \u001b[39m\u001b[90mBase\u001b[39m \u001b[90m./\u001b[39m\u001b[90m\u001b[4merrorshow.jl:835\u001b[24m\u001b[39m\n",
      " [3] \u001b[0m\u001b[1mprocess_backtrace\u001b[22m\n",
      "\u001b[90m   @ \u001b[39m\u001b[90m./\u001b[39m\u001b[90m\u001b[4merrorshow.jl:825\u001b[24m\u001b[39m\u001b[90m [inlined]\u001b[39m\n",
      " [4] \u001b[0m\u001b[1mCapturedException\u001b[22m\n",
      "\u001b[90m   @ \u001b[39m\u001b[90m./\u001b[39m\u001b[90m\u001b[4mtask.jl:17\u001b[24m\u001b[39m\u001b[90m [inlined]\u001b[39m\n",
      " [5] \u001b[0m\u001b[1mrun_work_thunk\u001b[22m\u001b[0m\u001b[1m(\u001b[22m\u001b[90mthunk\u001b[39m::\u001b[0mDistributed.var\"#153#154\"\u001b[90m{typeof(Core.eval), Tuple{Module, Expr}, Base.Pairs{Symbol, Union{}, Tuple{}, NamedTuple{(), Tuple{}}}}\u001b[39m, \u001b[90mprint_error\u001b[39m::\u001b[0mBool\u001b[0m\u001b[1m)\u001b[22m\n",
      "\u001b[90m   @ \u001b[39m\u001b[35mDistributed\u001b[39m \u001b[90m~/.local/julia-1.8.1/share/julia/stdlib/v1.8/Distributed/src/\u001b[39m\u001b[90m\u001b[4mprocess_messages.jl:72\u001b[24m\u001b[39m\n",
      " [6] \u001b[0m\u001b[1mrun_work_thunk\u001b[22m\u001b[0m\u001b[1m(\u001b[22m\u001b[90mrv\u001b[39m::\u001b[0mDistributed.RemoteValue, \u001b[90mthunk\u001b[39m::\u001b[0mFunction\u001b[0m\u001b[1m)\u001b[22m\n",
      "\u001b[90m   @ \u001b[39m\u001b[35mDistributed\u001b[39m \u001b[90m~/.local/julia-1.8.1/share/julia/stdlib/v1.8/Distributed/src/\u001b[39m\u001b[90m\u001b[4mprocess_messages.jl:79\u001b[24m\u001b[39m\n",
      " [7] \u001b[0m\u001b[1m(::Distributed.var\"#100#102\"{Distributed.RemoteValue, Distributed.var\"#153#154\"{typeof(Core.eval), Tuple{Module, Expr}, Base.Pairs{Symbol, Union{}, Tuple{}, NamedTuple{(), Tuple{}}}}})\u001b[22m\u001b[0m\u001b[1m(\u001b[22m\u001b[0m\u001b[1m)\u001b[22m\n",
      "\u001b[90m   @ \u001b[39m\u001b[35mDistributed\u001b[39m \u001b[90m./\u001b[39m\u001b[90m\u001b[4mtask.jl:484\u001b[24m\u001b[39m\n",
      "\n",
      "\u001b[91mcaused by: \u001b[39mUndefVarError: delete_method_by_sig not defined\n",
      "Stacktrace:\n",
      " [1] top-level scope\n",
      "\u001b[90m   @ \u001b[39m\u001b[90m\u001b[4mnone:1\u001b[24m\u001b[39m\n",
      "┌ Error: Failed to revise /home/kosuke/.julia/packages/SparseIR/hZp6V/src/augment.jl\n",
      "│   exception = Revise.ReviseEvalException(\"/home/kosuke/work/Nevanlinna_f/notebooks/none:0\", TypeError(Symbol(\"Type{...} expression\"), \"\", UnionAll, SparseIR.AbstractBasis), Any[(top-level scope at none:0, 1)])\n",
      "└ @ Revise /home/kosuke/.julia/packages/Revise/do2nH/src/packagedef.jl:715\n",
      "┌ Error: Failed to revise /home/kosuke/.julia/packages/SparseIR/hZp6V/src/poly.jl\n",
      "│   exception = Revise.ReviseEvalException(\"/home/kosuke/work/Nevanlinna_f/notebooks/none:0\", ErrorException(\"invalid redefinition of constant PiecewiseLegendrePoly\"), Any[(top-level scope at none:0, 1)])\n",
      "└ @ Revise /home/kosuke/.julia/packages/Revise/do2nH/src/packagedef.jl:715\n",
      "┌ Error: Failed to revise /home/kosuke/.julia/packages/SparseIR/hZp6V/src/kernel.jl\n",
      "│   exception = Revise.ReviseEvalException(\"/home/kosuke/.julia/packages/SparseIR/hZp6V/src/kernel.jl:473\", UndefVarError(:Fermionic), Any[(top-level scope at kernel.jl:473, 1)])\n",
      "└ @ Revise /home/kosuke/.julia/packages/Revise/do2nH/src/packagedef.jl:715\n",
      "┌ Error: Failed to revise /home/kosuke/.julia/packages/SparseIR/hZp6V/src/sve.jl\n",
      "│   exception = Revise.ReviseEvalException(\"/home/kosuke/work/Nevanlinna_f/notebooks/none:0\", ErrorException(\"invalid redefinition of constant SamplingSVE\"), Any[(top-level scope at none:0, 1)])\n",
      "└ @ Revise /home/kosuke/.julia/packages/Revise/do2nH/src/packagedef.jl:715\n",
      "┌ Error: Failed to revise /home/kosuke/.julia/packages/SparseIR/hZp6V/src/sampling.jl\n",
      "│   exception = Revise.ReviseEvalException(\"/home/kosuke/work/Nevanlinna_f/notebooks/none:0\", ErrorException(\"invalid redefinition of constant TauSampling\"), Any[(top-level scope at none:0, 1)])\n",
      "└ @ Revise /home/kosuke/.julia/packages/Revise/do2nH/src/packagedef.jl:715\n",
      "┌ Error: Failed to revise /home/kosuke/.julia/packages/SparseIR/hZp6V/src/basis_set.jl\n",
      "│   exception = Revise.ReviseEvalException(\"/home/kosuke/work/Nevanlinna_f/notebooks/none:0\", ErrorException(\"invalid redefinition of constant FiniteTempBasisSet\"), Any[(top-level scope at none:0, 1)])\n",
      "└ @ Revise /home/kosuke/.julia/packages/Revise/do2nH/src/packagedef.jl:715\n",
      "┌ Warning: The running code does not match the saved version for the following files:\n",
      "│ \n",
      "│   /home/kosuke/.julia/packages/SparseIR/hZp6V/src/sampling.jl\n",
      "│   /home/kosuke/.julia/packages/SparseIR/hZp6V/src/poly.jl\n",
      "│   /home/kosuke/.julia/packages/SparseIR/hZp6V/src/SparseIR.jl\n",
      "│   /home/kosuke/.julia/packages/SparseIR/hZp6V/src/sve.jl\n",
      "│   /home/kosuke/.julia/packages/SparseIR/hZp6V/src/basis.jl\n",
      "│   /home/kosuke/.julia/packages/SparseIR/hZp6V/src/augment.jl\n",
      "│   /home/kosuke/.julia/packages/SparseIR/hZp6V/src/basis_set.jl\n",
      "│   /home/kosuke/.julia/packages/SparseIR/hZp6V/src/kernel.jl\n",
      "│ \n",
      "│ If the error was due to evaluation order, it can sometimes be resolved by calling `Revise.retry()`.\n",
      "│ Use Revise.errors() to report errors again. Only the first error in each file is shown.\n",
      "│ Your prompt color may be yellow until the errors are resolved.\n",
      "└ @ Revise /home/kosuke/.julia/packages/Revise/do2nH/src/packagedef.jl:825\n"
     ]
    },
    {
     "ename": "LoadError",
     "evalue": "UndefVarError: lat not defined",
     "output_type": "error",
     "traceback": [
      "UndefVarError: lat not defined",
      "",
      "Stacktrace:",
      " [1] top-level scope",
      "   @ In[9]:4",
      " [2] eval",
      "   @ ./boot.jl:368 [inlined]",
      " [3] include_string(mapexpr::typeof(REPL.softscope), mod::Module, code::String, filename::String)",
      "   @ Base ./loading.jl:1428"
     ]
    }
   ],
   "source": [
    "ratio_U = 0.0\n",
    "precision = 1e-4\n",
    "loose_precision = 1e+3*precision\n",
    "gkf0 = make_free_giw(lat, basis)"
   ]
  },
  {
   "cell_type": "code",
   "execution_count": 8,
   "metadata": {},
   "outputs": [
    {
     "ename": "LoadError",
     "evalue": "UndefVarError: IRFLEX not defined",
     "output_type": "error",
     "traceback": [
      "UndefVarError: IRFLEX not defined",
      "",
      "Stacktrace:",
      " [1] top-level scope",
      "   @ In[8]:2",
      " [2] eval",
      "   @ ./boot.jl:368 [inlined]",
      " [3] include_string(mapexpr::typeof(REPL.softscope), mod::Module, code::String, filename::String)",
      "   @ Base ./loading.jl:1428"
     ]
    },
    {
     "name": "stderr",
     "output_type": "stream",
     "text": [
      "┌ Error: Error watching manifest\n",
      "│   exception = (Revise.ReviseEvalException(\"/home/kosuke/.julia/packages/ChainRules/AO7mP/src/rulesets/Base/fastmath_able.jl:291\", ErrorException(\"Non-FastMath compatible rules defined in fastmath_able.jl. \\n Definitions:\\n#= /home/kosuke/.julia/packages/ChainRules/AO7mP/src/rulesets/Base/fastmath_able.jl:12 =#\\n#= /home/kosuke/.julia/packages/ChainRules/AO7mP/src/rulesets/Base/fastmath_able.jl:18 =#\\n#= /home/kosuke/.julia/packages/ChainRules/AO7mP/src/rulesets/Base/fastmath_able.jl:24 =#\\n#= /home/kosuke/.julia/packages/ChainRules/AO7mP/src/rulesets/Base/fastmath_able.jl:30 =#\\n#= /home/kosuke/.julia/packages/ChainRules/AO7mP/src/rulesets/Base/fastmath_able.jl:35 =#\\n#= /home/kosuke/.julia/packages/ChainRules/AO7mP/src/rulesets/Base/fastmath_able.jl:39 =#\\n#= /home/kosuke/.julia/packages/ChainRules/AO7mP/src/rulesets/Base/fastmath_able.jl:40 =#\\n#= /home/kosuke/.julia/packages/ChainRules/AO7mP/src/rulesets/Base/fastmath_able.jl:41 =#\\n#= /home/kosuke/.julia/packages/ChainRules/AO7mP/src/rulesets/Base/fastmath_able.jl:44 =#\\n#= /home/kosuke/.julia/packages/ChainRules/AO7mP/src/rulesets/Base/fastmath_able.jl:45 =#\\n#= /home/kosuke/.julia/packages/ChainRules/AO7mP/src/rulesets/Base/fastmath_able.jl:46 =#\\n#= /home/kosuke/.julia/packages/ChainRules/AO7mP/src/rulesets/Base/fastmath_able.jl:49 =#\\n#= /home/kosuke/.julia/packages/ChainRules/AO7mP/src/rulesets/Base/fastmath_able.jl:50 =#\\n#= /home/kosuke/.julia/packages/ChainRules/AO7mP/src/rulesets/Base/fastmath_able.jl:53 =#\\n#= /home/kosuke/.julia/packages/ChainRules/AO7mP/src/rulesets/Base/fastmath_able.jl:54 =#\\n#= /home/kosuke/.julia/packages/ChainRules/AO7mP/src/rulesets/Base/fastmath_able.jl:55 =#\\n#= /home/kosuke/.julia/packages/ChainRules/AO7mP/src/rulesets/Base/fastmath_able.jl:56 =#\\n#= /home/kosuke/.julia/packages/ChainRules/AO7mP/src/rulesets/Base/fastmath_able.jl:57 =#\\n#= /home/kosuke/.julia/packages/ChainRules/AO7mP/src/rulesets/Base/fastmath_able.jl:58 =#\\n#= /home/kosuke/.julia/packages/ChainRules/AO7mP/src/rulesets/Base/fastmath_able.jl:59 =#\\n#= /home/kosuke/.julia/packages/ChainRules/AO7mP/src/rulesets/Base/fastmath_able.jl:60 =#\\n#= /home/kosuke/.julia/packages/ChainRules/AO7mP/src/rulesets/Base/fastmath_able.jl:61 =#\\n#= /home/kosuke/.julia/packages/ChainRules/AO7mP/src/rulesets/Base/fastmath_able.jl:62 =#\\n#= /home/kosuke/.julia/packages/ChainRules/AO7mP/src/rulesets/Base/fastmath_able.jl:63 =#\\n#= /home/kosuke/.julia/packages/ChainRules/AO7mP/src/rulesets/Base/fastmath_able.jl:67 =#\\n#= /home/kosuke/.julia/packages/ChainRules/AO7mP/src/rulesets/Base/fastmath_able.jl:74 =#\\n#= /home/kosuke/.julia/packages/ChainRules/AO7mP/src/rulesets/Base/fastmath_able.jl:83 =#\\n#= /home/kosuke/.julia/packages/ChainRules/AO7mP/src/rulesets/Base/fastmath_able.jl:89 =#\\n#= /home/kosuke/.julia/packages/ChainRules/AO7mP/src/rulesets/Base/fastmath_able.jl:93 =#\\n#= /home/kosuke/.julia/packages/ChainRules/AO7mP/src/rulesets/Base/fastmath_able.jl:102 =#\\n#= /home/kosuke/.julia/packages/ChainRules/AO7mP/src/rulesets/Base/fastmath_able.jl:105 =#\\n#= /home/kosuke/.julia/packages/ChainRules/AO7mP/src/rulesets/Base/fastmath_able.jl:113 =#\\n#= /home/kosuke/.julia/packages/ChainRules/AO7mP/src/rulesets/Base/fastmath_able.jl:121 =#\\n#= /home/kosuke/.julia/packages/ChainRules/AO7mP/src/rulesets/Base/fastmath_able.jl:132 =#\\n#= /home/kosuke/.julia/packages/ChainRules/AO7mP/src/rulesets/Base/fastmath_able.jl:146 =#\\n#= /home/kosuke/.julia/packages/ChainRules/AO7mP/src/rulesets/Base/fastmath_able.jl:158 =#\\n#= /home/kosuke/.julia/packages/ChainRules/AO7mP/src/rulesets/Base/fastmath_able.jl:167 =#\\n#= /home/kosuke/.julia/packages/ChainRules/AO7mP/src/rulesets/Base/fastmath_able.jl:168 =#\\n#= /home/kosuke/.julia/packages/ChainRules/AO7mP/src/rulesets/Base/fastmath_able.jl:169 =#\\n#= /home/kosuke/.julia/packages/ChainRules/AO7mP/src/rulesets/Base/fastmath_able.jl:173 =#\\n#= /home/kosuke/.julia/packages/ChainRules/AO7mP/src/rulesets/Base/fastmath_able.jl:186 =#\\n#= /home/kosuke/.julia/packages/ChainRules/AO7mP/src/rulesets/Base/fastmath_able.jl:203 =#\\n#= /home/kosuke/.julia/packages/ChainRules/AO7mP/src/rulesets/Base/fastmath_able.jl:209 =#\\n#= /home/kosuke/.julia/packages/ChainRules/AO7mP/src/rulesets/Base/fastmath_able.jl:210 =#\\n#= /home/kosuke/.julia/packages/ChainRules/AO7mP/src/rulesets/Base/fastmath_able.jl:213 =#\\n#= /home/kosuke/.julia/packages/ChainRules/AO7mP/src/rulesets/Base/fastmath_able.jl:214 =#\\n#= /home/kosuke/.julia/packages/ChainRules/AO7mP/src/rulesets/Base/fastmath_able.jl:217 =#\\n#= /home/kosuke/.julia/packages/ChainRules/AO7mP/src/rulesets/Base/fastmath_able.jl:224 =#\\n#= /home/kosuke/.julia/packages/ChainRules/AO7mP/src/rulesets/Base/fastmath_able.jl:235 =#\\n#= /home/kosuke/.julia/packages/ChainRules/AO7mP/src/rulesets/Base/fastmath_able.jl:242 =#\\n#= /home/kosuke/.julia/packages/ChainRules/AO7mP/src/rulesets/Base/fastmath_able.jl:244 =#\\n#= /home/kosuke/.julia/packages/ChainRules/AO7mP/src/rulesets/Base/fastmath_able.jl:253 =#\\n#= /home/kosuke/.julia/packages/ChainRules/AO7mP/src/rulesets/Base/fastmath_able.jl:268 =#\\n#= /home/kosuke/.julia/packages/ChainRules/AO7mP/src/rulesets/Base/fastmath_able.jl:278 =#\"), Any[(error(s::String) at error.jl:35, 1), (top-level scope at fastmath_able.jl:291, 1)]), Union{Ptr{Nothing}, Base.InterpreterIP}[Ptr{Nothing} @0x00007fdff0f125fe])\n",
      "└ @ Revise /home/kosuke/.julia/packages/Revise/do2nH/src/pkgs.jl:477\n"
     ]
    }
   ],
   "source": [
    "# Compute chi0\n",
    "chi0kf = calc_chi0(gkf0, lat, basis)\n",
    "\n",
    "# Compute chi\n",
    "chiskf = chi0kf ./ (1.0 .- lat.U*chi0kf)"
   ]
  }
 ],
 "metadata": {
  "kernelspec": {
   "display_name": "Julia 1.8.1",
   "language": "julia",
   "name": "julia-1.8"
  },
  "language_info": {
   "file_extension": ".jl",
   "mimetype": "application/julia",
   "name": "julia",
   "version": "1.8.1"
  }
 },
 "nbformat": 4,
 "nbformat_minor": 4
}
