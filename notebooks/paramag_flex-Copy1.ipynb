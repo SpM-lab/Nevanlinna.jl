{
 "cells": [
  {
   "cell_type": "code",
   "execution_count": 1,
   "metadata": {},
   "outputs": [
    {
     "name": "stderr",
     "output_type": "stream",
     "text": [
      "┌ Info: Precompiling Nevanlinna [0b21cfa8-e591-48a4-a07b-a9d20be7c264]\n",
      "└ @ Base loading.jl:1662\n"
     ]
    }
   ],
   "source": [
    "using Plots\n",
    "using LinearAlgebra\n",
    "using Revise\n",
    "using Optim\n",
    "using Zygote\n",
    "using LaTeXStrings\n",
    "using MultiFloats\n",
    "using SparseIR\n",
    "using Nevanlinna"
   ]
  },
  {
   "cell_type": "code",
   "execution_count": 2,
   "metadata": {},
   "outputs": [
    {
     "data": {
      "text/plain": [
       "BigFloat"
      ]
     },
     "execution_count": 2,
     "metadata": {},
     "output_type": "execute_result"
    }
   ],
   "source": [
    "T = BigFloat"
   ]
  },
  {
   "cell_type": "code",
   "execution_count": 3,
   "metadata": {},
   "outputs": [
    {
     "data": {
      "text/plain": [
       "FiniteTempBasisSet with β = 100.0, ωmax = 100.0"
      ]
     },
     "execution_count": 3,
     "metadata": {},
     "output_type": "execute_result"
    }
   ],
   "source": [
    "beta::Float64 = 100\n",
    "wmax::Float64 = 100\n",
    "basis = FiniteTempBasisSet(Float64(beta), Float64(wmax), 1e-15) "
   ]
  },
  {
   "cell_type": "code",
   "execution_count": 4,
   "metadata": {},
   "outputs": [
    {
     "data": {
      "text/plain": [
       "Main.IRFLEX"
      ]
     },
     "execution_count": 4,
     "metadata": {},
     "output_type": "execute_result"
    }
   ],
   "source": [
    "include(\"../flex_src/IRFLEX.jl\")"
   ]
  },
  {
   "cell_type": "code",
   "execution_count": 6,
   "metadata": {},
   "outputs": [
    {
     "data": {
      "text/plain": [
       "52"
      ]
     },
     "execution_count": 6,
     "metadata": {},
     "output_type": "execute_result"
    }
   ],
   "source": [
    "hnw = (length(basis.smpl_wn_b.sampling_points)-1)÷2"
   ]
  },
  {
   "cell_type": "code",
   "execution_count": 13,
   "metadata": {},
   "outputs": [],
   "source": [
    "input_chi  = Array{Complex{T}}(undef, hnw) \n",
    "input_smpl = Array{Complex{T}}(undef, hnw) \n",
    ";"
   ]
  },
  {
   "cell_type": "code",
   "execution_count": 38,
   "metadata": {},
   "outputs": [],
   "source": [
    "f = open(\"FLEX_chi0.dat\", \"r\")\n",
    "sum_rule = parse(Float64,readline(f))\n",
    "for i in 1:hnw\n",
    "    list = readline(f)\n",
    "    s  = split(list,'\\t')\n",
    "    o  = parse(BigFloat, s[1])\n",
    "    re = parse(BigFloat, s[2])\n",
    "    ii = parse(BigFloat, s[3])\n",
    "    input_smpl[i] = im*o\n",
    "    input_chi[i]  = -re - ii*im\n",
    "end\n",
    "close(f)"
   ]
  },
  {
   "cell_type": "code",
   "execution_count": 37,
   "metadata": {},
   "outputs": [
    {
     "data": {
      "text/plain": [
       "512"
      ]
     },
     "execution_count": 37,
     "metadata": {},
     "output_type": "execute_result"
    }
   ],
   "source": [
    "setprecision(512)"
   ]
  },
  {
   "cell_type": "code",
   "execution_count": 39,
   "metadata": {},
   "outputs": [
    {
     "name": "stdout",
     "output_type": "stream",
     "text": [
      "N_imag is setted as 22\n",
      "N_imag 22\n"
     ]
    }
   ],
   "source": [
    "N_real    =  6000\n",
    "eta       =  0.001\n",
    "omega_max =  1.0+eta\n",
    "H_max     =  50\n",
    "ab_coeff  = zeros(ComplexF64, 2*H_max) \n",
    "lambda    = 1e-5\n",
    "#1000 → 2000\n",
    "iter_tol  = 10000\n",
    "N_imag    =  Nevanlinna.calc_opt_N_imag(hnw, input_smpl, input_chi)\n",
    "#N_imag = hnw \n",
    "println(\"N_imag $(N_imag)\")"
   ]
  },
  {
   "cell_type": "code",
   "execution_count": 40,
   "metadata": {
    "scrolled": true
   },
   "outputs": [
    {
     "name": "stdout",
     "output_type": "stream",
     "text": [
      "Pick matrix is non positive semi-definite matrix in Schur method.\n",
      "H=1\n",
      "Iter     Function value   Gradient norm \n",
      "     0     7.692319e+00     3.610791e+01\n",
      " * time: 0.01637411117553711\n",
      "     1     5.959521e+00     1.376888e+01\n",
      " * time: 5.832335948944092\n",
      "     2     3.237334e+00     8.330503e+00\n",
      " * time: 9.7257719039917\n",
      "     3     2.580651e+00     2.308128e+00\n",
      " * time: 11.68789792060852\n",
      "     4     2.553472e+00     2.065056e-01\n",
      " * time: 13.637442111968994\n",
      "     5     2.553353e+00     1.044147e-01\n",
      " * time: 14.896047115325928\n",
      "     6     2.553319e+00     8.362800e-03\n",
      " * time: 16.168946981430054\n",
      "     7     2.553318e+00     4.325013e-03\n",
      " * time: 18.107789993286133\n",
      "     8     2.553318e+00     3.286115e-03\n",
      " * time: 19.3800630569458\n",
      "     9     2.553318e+00     6.683691e-04\n",
      " * time: 20.666630029678345\n",
      "    10     2.553318e+00     2.367071e-04\n",
      " * time: 22.006797075271606\n",
      "    11     2.553318e+00     1.670284e-04\n",
      " * time: 23.893304109573364\n",
      "    12     2.553318e+00     6.386005e-05\n",
      " * time: 25.23860192298889\n",
      "    13     2.553318e+00     1.616383e-05\n",
      " * time: 27.07978391647339\n",
      "    14     2.553318e+00     1.062919e-05\n",
      " * time: 28.42383599281311\n",
      "    15     2.553318e+00     3.587799e-06\n",
      " * time: 30.36832308769226\n",
      "    16     2.553318e+00     1.081568e-06\n",
      " * time: 31.63575506210327\n",
      "    17     2.553318e+00     1.009046e-06\n",
      " * time: 33.57526707649231\n",
      "    18     2.553318e+00     3.844192e-07\n",
      " * time: 34.84046697616577\n",
      "    19     2.553318e+00     1.273519e-07\n",
      " * time: 36.78667092323303\n",
      "    20     2.553318e+00     5.256141e-08\n",
      " * time: 38.01345610618591\n",
      "    21     2.553318e+00     2.684331e-08\n",
      " * time: 39.980671882629395\n",
      "    22     2.553318e+00     1.000847e-08\n",
      " * time: 41.257970094680786\n",
      "max_theta=0.25584238706688533534749324454467705829549900300754873811205435133038761322397292615254483574198680257962164066546752667345320685251585880790723232545457576\n",
      "hardy optimization was success.\n",
      " 79.136760 seconds (694.40 M allocations: 42.792 GiB, 16.72% gc time, 44.41% compilation time)\n"
     ]
    }
   ],
   "source": [
    "@time sol = Nevanlinna.NevanlinnaSolver(N_imag, input_smpl, input_chi, N_real, omega_max, eta, sum_rule, H_max, iter_tol, lambda, true)\n",
    ";"
   ]
  },
  {
   "cell_type": "code",
   "execution_count": 41,
   "metadata": {
    "scrolled": true
   },
   "outputs": [
    {
     "name": "stdout",
     "output_type": "stream",
     "text": [
      "H=1\n",
      "Iter     Function value   Gradient norm \n",
      "     0     2.553318e+00     1.000847e-08\n",
      " * time: 0.0002009868621826172\n",
      "     1     2.553318e+00     1.348790e-08\n",
      " * time: 1.248737096786499\n",
      "     2     2.553318e+00     7.680359e-09\n",
      " * time: 2.5294790267944336\n",
      "max_theta=0.255842386920734370004563853911877928782452084639885716857863251121064675121182769863549230087663306132249825535280713934046959677407336899136834495365516875\n",
      "hardy optimization was success.\n",
      "H=2\n",
      "Iter     Function value   Gradient norm \n",
      "     0     2.553318e+00     1.365707e+01\n",
      " * time: 0.00019598007202148438\n",
      "     1     1.994574e+00     1.128237e+01\n",
      " * time: 5.025259971618652\n",
      "     2     6.785222e-01     3.574534e+00\n",
      " * time: 7.84345006942749\n",
      "     3     6.427173e-01     2.790530e+00\n",
      " * time: 9.965175867080688\n",
      "     4     9.266554e-02     2.505030e+00\n",
      " * time: 12.101970911026001\n",
      "     5     6.704932e-02     3.796254e-02\n",
      " * time: 14.268976926803589\n",
      "     6     6.679684e-02     2.688488e-02\n",
      " * time: 16.341472864151\n",
      "     7     6.678261e-02     1.998592e-02\n",
      " * time: 18.481952905654907\n",
      "     8     6.677641e-02     2.347465e-03\n",
      " * time: 20.59477686882019\n",
      "     9     6.677636e-02     2.432935e-04\n",
      " * time: 21.988806009292603\n",
      "    10     6.677636e-02     8.352049e-06\n",
      " * time: 23.412160873413086\n",
      "    11     6.677636e-02     6.129399e-07\n",
      " * time: 25.57577395439148\n",
      "    12     6.677636e-02     2.161537e-08\n",
      " * time: 27.696906089782715\n",
      "    13     6.677636e-02     1.494163e-09\n",
      " * time: 29.10644006729126\n",
      "max_theta=0.431357038077626942520562643546879820520410228668202094861221112965287403930096466766452838641962741368457338397827647203700251721732389788419092690959528643\n",
      "hardy optimization was success.\n",
      "H=3\n",
      "Iter     Function value   Gradient norm \n",
      "     0     6.677636e-02     2.425864e-01\n",
      " * time: 0.0001881122589111328\n",
      "     1     6.666634e-02     1.455455e-01\n",
      " * time: 1.5311610698699951\n",
      "     2     6.487583e-02     2.451604e-01\n",
      " * time: 3.8772029876708984\n",
      "     3     6.442283e-02     1.863657e-01\n",
      " * time: 5.426177978515625\n",
      "     4     5.285442e-02     1.129553e-01\n",
      " * time: 7.846491098403931\n",
      "     5     5.217176e-02     7.202820e-02\n",
      " * time: 9.469820976257324\n",
      "     6     5.204625e-02     1.232241e-02\n",
      " * time: 11.809823036193848\n",
      "     7     5.203866e-02     2.531251e-02\n",
      " * time: 14.066667079925537\n",
      "     8     5.189378e-02     1.647901e-02\n",
      " * time: 18.040146112442017\n",
      "     9     5.189199e-02     4.704695e-05\n",
      " * time: 20.403778076171875\n",
      "    10     5.189199e-02     6.304636e-06\n",
      " * time: 21.931374073028564\n",
      "    11     5.189199e-02     9.475308e-07\n",
      " * time: 24.318143129348755\n",
      "    12     5.189199e-02     2.122215e-08\n",
      " * time: 25.867035150527954\n",
      "    13     5.189199e-02     1.048614e-08\n",
      " * time: 27.529494047164917\n",
      "    14     5.189199e-02     2.215610e-10\n",
      " * time: 29.89470911026001\n",
      "max_theta=0.501450294351986743039776879226619897019382920679751731617803220058691963314303042113862652622611839672087074546616244290424682503456136985524744864924347327\n",
      "hardy optimization was success.\n",
      "H=4\n",
      "Iter     Function value   Gradient norm \n",
      "     0     5.189199e-02     3.378270e-02\n",
      " * time: 0.00019097328186035156\n",
      "     1     5.188783e-02     3.551895e-02\n",
      " * time: 1.8671388626098633\n",
      "     2     5.186058e-02     2.539791e-02\n",
      " * time: 3.602428913116455\n",
      "     3     5.185088e-02     3.253149e-02\n",
      " * time: 5.312463998794556\n",
      "     4     5.177479e-02     1.188167e-02\n",
      " * time: 7.113807916641235\n",
      "     5     5.170355e-02     2.558482e-02\n",
      " * time: 9.694077014923096\n",
      "     6     5.103198e-02     1.303800e-01\n",
      " * time: 12.32447099685669\n",
      "     7     5.017428e-02     2.013466e-02\n",
      " * time: 14.996495008468628\n",
      "     8     5.014688e-02     1.139314e-02\n",
      " * time: 17.633649826049805\n",
      "     9     5.014353e-02     4.745396e-04\n",
      " * time: 20.27518391609192\n",
      "    10     5.014336e-02     1.416672e-03\n",
      " * time: 23.806381940841675\n",
      "    11     5.007844e-02     2.448187e-02\n",
      " * time: 29.014142990112305\n",
      "    12     5.006275e-02     2.594281e-04\n",
      " * time: 31.620603799819946\n",
      "    13     5.006266e-02     1.849798e-04\n",
      " * time: 33.310669898986816\n",
      "    14     5.006266e-02     8.996854e-06\n",
      " * time: 35.893404960632324\n",
      "    15     5.006266e-02     6.581471e-07\n",
      " * time: 38.48196792602539\n",
      "    16     5.006266e-02     9.427890e-08\n",
      " * time: 40.18009090423584\n",
      "    17     5.006266e-02     1.910740e-08\n",
      " * time: 42.76156187057495\n",
      "    18     5.006266e-02     1.007898e-09\n",
      " * time: 45.32341194152832\n",
      "max_theta=0.542308238839567114583324616867861859215604245887590318119325776865900673911954115241963797970364720746206381319430012189828695372772002963899131741441873348\n",
      "hardy optimization was success.\n",
      "H=5\n",
      "Iter     Function value   Gradient norm \n",
      "     0     5.006266e-02     1.287766e-03\n",
      " * time: 0.00019311904907226562\n",
      "     1     5.006265e-02     1.557615e-03\n",
      " * time: 1.9012019634246826\n",
      "     2     5.006265e-02     1.191830e-03\n",
      " * time: 3.8818070888519287\n",
      "     3     5.006260e-02     5.705890e-04\n",
      " * time: 5.757146120071411\n",
      "     4     5.006257e-02     6.547937e-04\n",
      " * time: 7.755608081817627\n",
      "     5     5.006250e-02     1.976746e-04\n",
      " * time: 9.608508110046387\n",
      "     6     5.006243e-02     4.496470e-04\n",
      " * time: 11.555325984954834\n",
      "     7     5.006165e-02     3.233712e-04\n",
      " * time: 14.482892036437988\n",
      "     8     5.006087e-02     3.299012e-04\n",
      " * time: 17.355650901794434\n",
      "     9     5.006076e-02     5.351546e-05\n",
      " * time: 20.20162010192871\n",
      "    10     5.006076e-02     3.224696e-05\n",
      " * time: 23.03642201423645\n",
      "    11     5.006071e-02     2.083291e-04\n",
      " * time: 27.777853965759277\n",
      "    12     5.005948e-02     4.727004e-04\n",
      " * time: 32.66526198387146\n",
      "    13     5.005828e-02     2.309363e-04\n",
      " * time: 35.5321409702301\n",
      "    14     5.005825e-02     3.191545e-05\n",
      " * time: 38.38419008255005\n",
      "    15     5.005824e-02     4.719460e-05\n",
      " * time: 42.22801494598389\n",
      "    16     5.005819e-02     1.400300e-04\n",
      " * time: 46.082863092422485\n",
      "    17     5.005732e-02     4.214433e-04\n",
      " * time: 49.93029308319092\n",
      "    18     5.004821e-02     1.113892e-03\n",
      " * time: 53.7615180015564\n"
     ]
    },
    {
     "ename": "LoadError",
     "evalue": "InterruptException:",
     "output_type": "error",
     "traceback": [
      "InterruptException:",
      "",
      "Stacktrace:",
      "  [1] accum(::Complex{BigFloat}, ::Complex{BigFloat}, ::Complex{BigFloat}, ::Vararg{Complex{BigFloat}}) (repeats 2 times)",
      "    @ Zygote ~/.julia/packages/Zygote/dABKa/src/lib/lib.jl:22",
      "  [2] _broadcast_getindex_evalf",
      "    @ ./broadcast.jl:670 [inlined]",
      "  [3] _broadcast_getindex",
      "    @ ./broadcast.jl:643 [inlined]",
      "  [4] getindex",
      "    @ ./broadcast.jl:597 [inlined]",
      "  [5] macro expansion",
      "    @ ./broadcast.jl:961 [inlined]",
      "  [6] macro expansion",
      "    @ ./simdloop.jl:77 [inlined]",
      "  [7] copyto!",
      "    @ ./broadcast.jl:960 [inlined]",
      "  [8] copyto!",
      "    @ ./broadcast.jl:913 [inlined]",
      "  [9] copy",
      "    @ ./broadcast.jl:885 [inlined]",
      " [10] materialize(bc::Base.Broadcast.Broadcasted{Base.Broadcast.DefaultArrayStyle{3}, Nothing, typeof(Zygote.accum), NTuple{4, Array{Complex{BigFloat}, 3}}})",
      "    @ Base.Broadcast ./broadcast.jl:860",
      " [11] accum(::Array{Complex{BigFloat}, 3}, ::Array{Complex{BigFloat}, 3}, ::Array{Complex{BigFloat}, 3}, ::Vararg{Array{Complex{BigFloat}, 3}})",
      "    @ Zygote ~/.julia/packages/Zygote/dABKa/src/lib/lib.jl:25",
      " [12] Pullback",
      "    @ ~/work/Nevanlinna/src/nevanlinna_impl.jl:66 [inlined]",
      " [13] (::typeof(∂(#calc_functional#3)))(Δ::Float64)",
      "    @ Zygote ~/.julia/packages/Zygote/dABKa/src/compiler/interface2.jl:0",
      " [14] Pullback",
      "    @ ~/work/Nevanlinna/src/nevanlinna_impl.jl:59 [inlined]",
      " [15] (::typeof(∂(calc_functional##kw)))(Δ::Float64)",
      "    @ Zygote ~/.julia/packages/Zygote/dABKa/src/compiler/interface2.jl:0",
      " [16] Pullback",
      "    @ ~/work/Nevanlinna/src/schur.jl:52 [inlined]",
      " [17] (::typeof(∂(λ)))(Δ::Float64)",
      "    @ Zygote ~/.julia/packages/Zygote/dABKa/src/compiler/interface2.jl:0",
      " [18] (::Zygote.var\"#60#61\"{typeof(∂(λ))})(Δ::Float64)",
      "    @ Zygote ~/.julia/packages/Zygote/dABKa/src/compiler/interface.jl:45",
      " [19] gradient(f::Function, args::Vector{ComplexF64})",
      "    @ Zygote ~/.julia/packages/Zygote/dABKa/src/compiler/interface.jl:97",
      " [20] (::Nevanlinna.var\"#jacobian#5\"{Nevanlinna.var\"#functional#4\"{RealDomainData{BigFloat}, Array{Complex{BigFloat}, 3}, Int64, Matrix{Complex{BigFloat}}, Float64}})(J::Vector{ComplexF64}, x::Vector{ComplexF64})",
      "    @ Nevanlinna ~/work/Nevanlinna/src/schur.jl:55",
      " [21] (::NLSolversBase.var\"#fg!#8\"{Nevanlinna.var\"#functional#4\"{RealDomainData{BigFloat}, Array{Complex{BigFloat}, 3}, Int64, Matrix{Complex{BigFloat}}, Float64}, Nevanlinna.var\"#jacobian#5\"{Nevanlinna.var\"#functional#4\"{RealDomainData{BigFloat}, Array{Complex{BigFloat}, 3}, Int64, Matrix{Complex{BigFloat}}, Float64}}})(gx::Vector{ComplexF64}, x::Vector{ComplexF64})",
      "    @ NLSolversBase ~/.julia/packages/NLSolversBase/cfJrN/src/objective_types/abstract.jl:13",
      " [22] value_gradient!!(obj::OnceDifferentiable{Float64, Vector{ComplexF64}, Vector{ComplexF64}}, x::Vector{ComplexF64})",
      "    @ NLSolversBase ~/.julia/packages/NLSolversBase/cfJrN/src/interface.jl:82",
      " [23] value_gradient!(obj::OnceDifferentiable{Float64, Vector{ComplexF64}, Vector{ComplexF64}}, x::Vector{ComplexF64})",
      "    @ NLSolversBase ~/.julia/packages/NLSolversBase/cfJrN/src/interface.jl:69",
      " [24] value_gradient!(obj::Optim.ManifoldObjective{OnceDifferentiable{Float64, Vector{ComplexF64}, Vector{ComplexF64}}}, x::Vector{ComplexF64})",
      "    @ Optim ~/.julia/packages/Optim/Zq1jM/src/Manifolds.jl:50",
      " [25] (::LineSearches.var\"#ϕdϕ#6\"{Optim.ManifoldObjective{OnceDifferentiable{Float64, Vector{ComplexF64}, Vector{ComplexF64}}}, Vector{ComplexF64}, Vector{ComplexF64}, Vector{ComplexF64}})(α::Float64)",
      "    @ LineSearches ~/.julia/packages/LineSearches/G1LRk/src/LineSearches.jl:84",
      " [26] (::LineSearches.HagerZhang{Float64, Base.RefValue{Bool}})(ϕ::Function, ϕdϕ::LineSearches.var\"#ϕdϕ#6\"{Optim.ManifoldObjective{OnceDifferentiable{Float64, Vector{ComplexF64}, Vector{ComplexF64}}}, Vector{ComplexF64}, Vector{ComplexF64}, Vector{ComplexF64}}, c::Float64, phi_0::Float64, dphi_0::Float64)",
      "    @ LineSearches ~/.julia/packages/LineSearches/G1LRk/src/hagerzhang.jl:226",
      " [27] HagerZhang",
      "    @ ~/.julia/packages/LineSearches/G1LRk/src/hagerzhang.jl:101 [inlined]",
      " [28] perform_linesearch!(state::Optim.BFGSState{Vector{ComplexF64}, Matrix{ComplexF64}, Float64, Vector{ComplexF64}}, method::BFGS{LineSearches.InitialStatic{Float64}, LineSearches.HagerZhang{Float64, Base.RefValue{Bool}}, Nothing, Nothing, Flat}, d::Optim.ManifoldObjective{OnceDifferentiable{Float64, Vector{ComplexF64}, Vector{ComplexF64}}})",
      "    @ Optim ~/.julia/packages/Optim/Zq1jM/src/utilities/perform_linesearch.jl:59",
      " [29] update_state!(d::OnceDifferentiable{Float64, Vector{ComplexF64}, Vector{ComplexF64}}, state::Optim.BFGSState{Vector{ComplexF64}, Matrix{ComplexF64}, Float64, Vector{ComplexF64}}, method::BFGS{LineSearches.InitialStatic{Float64}, LineSearches.HagerZhang{Float64, Base.RefValue{Bool}}, Nothing, Nothing, Flat})",
      "    @ Optim ~/.julia/packages/Optim/Zq1jM/src/multivariate/solvers/first_order/bfgs.jl:139",
      " [30] optimize(d::OnceDifferentiable{Float64, Vector{ComplexF64}, Vector{ComplexF64}}, initial_x::Vector{ComplexF64}, method::BFGS{LineSearches.InitialStatic{Float64}, LineSearches.HagerZhang{Float64, Base.RefValue{Bool}}, Nothing, Nothing, Flat}, options::Optim.Options{Float64, Nothing}, state::Optim.BFGSState{Vector{ComplexF64}, Matrix{ComplexF64}, Float64, Vector{ComplexF64}})",
      "    @ Optim ~/.julia/packages/Optim/Zq1jM/src/multivariate/optimize/optimize.jl:54",
      " [31] optimize",
      "    @ ~/.julia/packages/Optim/Zq1jM/src/multivariate/optimize/optimize.jl:36 [inlined]",
      " [32] #optimize#91",
      "    @ ~/.julia/packages/Optim/Zq1jM/src/multivariate/optimize/interface.jl:155 [inlined]",
      " [33] optimize",
      "    @ ~/.julia/packages/Optim/Zq1jM/src/multivariate/optimize/interface.jl:150 [inlined]",
      " [34] Nevanlinna_Schur(reals::RealDomainData{BigFloat}, abcd::Array{Complex{BigFloat}, 3}, H::Int64, ab_coeff::Vector{ComplexF64}, hardy_matrix::Matrix{Complex{BigFloat}}, iter_tol::Int64, lambda::Float64, verbose::Bool)",
      "    @ Nevanlinna ~/work/Nevanlinna/src/schur.jl:59",
      " [35] solve!(sol::NevanlinnaSolver{BigFloat})",
      "    @ Nevanlinna ~/work/Nevanlinna/src/solver.jl:82",
      " [36] top-level scope",
      "    @ ./timing.jl:262 [inlined]",
      " [37] top-level scope",
      "    @ ./In[41]:0",
      " [38] eval",
      "    @ ./boot.jl:368 [inlined]",
      " [39] include_string(mapexpr::typeof(REPL.softscope), mod::Module, code::String, filename::String)",
      "    @ Base ./loading.jl:1428"
     ]
    }
   ],
   "source": [
    "@time Nevanlinna.solve!(sol)\n",
    ";"
   ]
  },
  {
   "cell_type": "code",
   "execution_count": 40,
   "metadata": {},
   "outputs": [
    {
     "name": "stdout",
     "output_type": "stream",
     "text": [
      "Pick matrix is positive semi-definite.\n",
      "ImagDomainData{BigFloat}\n",
      "RealDomainData{BigFloat}\n",
      "max_theta=0.0\n",
      "hardy optimization was success.\n"
     ]
    },
    {
     "data": {
      "text/plain": [
       "true"
      ]
     },
     "execution_count": 40,
     "metadata": {},
     "output_type": "execute_result"
    }
   ],
   "source": [
    "imaginary = Nevanlinna.ImagDomainData(input_smpl, input_chi, N_imag)\n",
    "raw_reals = Nevanlinna.RealDomainData(N_real, omega_max, eta, sum_rule, T=T)\n",
    "println(typeof(imaginary))\n",
    "println(typeof(raw_reals))\n",
    "\n",
    "phis = Nevanlinna.calc_phis(imaginary)\n",
    "abcd = Nevanlinna.calc_abcd(imaginary, raw_reals, phis)\n",
    "hardy_matrix = Nevanlinna.calc_hardy_matrix(raw_reals, H_max)\n",
    "\n",
    "Nevanlinna.evaluation!(raw_reals, abcd, H_max, ab_coeff, hardy_matrix)"
   ]
  },
  {
   "cell_type": "code",
   "execution_count": 59,
   "metadata": {},
   "outputs": [],
   "source": [
    "f = open(\"raw_spec.dat\", \"w\")\n",
    "for iw in 1:length(raw_reals.freq)\n",
    "    omega = real(raw_reals.freq[iw])\n",
    "    chi = imag(raw_reals.val[iw]/pi)*tanh(0.5*SparseIR.β(basis)*real(raw_reals.freq[iw]))\n",
    "    println(f, \"$omega \\t $chi\")\n",
    "end\n",
    "close(f)\n",
    ";"
   ]
  },
  {
   "cell_type": "code",
   "execution_count": null,
   "metadata": {},
   "outputs": [],
   "source": [
    "f = open(\"opt_spec.dat\", \"w\")\n",
    "for iw in 1:length(sol.reals.freq)\n",
    "    omega = Float64(real(sol.reals.freq[iw]))\n",
    "    chi = Float64(imag(sol.reals.val[iw]/pi))*tanh(0.5*SparseIR.β(basis)*real(sol.reals.freq[iw]))\n",
    "    println(f, \"$omega \\t $chi\")\n",
    "end\n",
    "close(f)\n",
    ";"
   ]
  },
  {
   "cell_type": "code",
   "execution_count": null,
   "metadata": {},
   "outputs": [],
   "source": []
  }
 ],
 "metadata": {
  "kernelspec": {
   "display_name": "Julia 1.8.1",
   "language": "julia",
   "name": "julia-1.8"
  },
  "language_info": {
   "file_extension": ".jl",
   "mimetype": "application/julia",
   "name": "julia",
   "version": "1.8.1"
  }
 },
 "nbformat": 4,
 "nbformat_minor": 4
}
