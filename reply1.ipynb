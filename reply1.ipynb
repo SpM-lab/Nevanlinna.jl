{
 "cells": [
  {
   "cell_type": "markdown",
   "id": "72e1cdf3-30e5-4b8a-804c-34fa09e0147b",
   "metadata": {},
   "source": [
    "We sincerely appreciate for your careful and detailed review.\n",
    "We are greatfull to see your positive comment.\n",
    "> The paper and the software address an issue that has plagued the quantum Monte Carlo community for years and the authors have applied theory that exploits the analytic structure of the Matsubara Green'S function to improve the state of affairs.\n",
    "> All the work and the obtained experiences have been made available to the public in a software package.\n",
    "\n",
    "> This is a very valuable contribution to the scipost codebases journal and I recommend publication after a few minor improvements to the paper."
   ]
  },
  {
   "cell_type": "markdown",
   "id": "f1caeb59-e82f-46ac-b7bf-16be09f6bb1b",
   "metadata": {},
   "source": [
    "Below we reply to their comments and criticisms.\n",
    "We believe that our modification satisfy your request."
   ]
  },
  {
   "cell_type": "markdown",
   "id": "de799887-d390-4913-8bdf-25889b7efea3",
   "metadata": {
    "tags": []
   },
   "source": [
    "**The referee writes:**\n",
    "> The installation section should be elaborated to make it easier for users that have never used julia. What is a REPL? How do I get into package mode?\n",
    "\n",
    "**Our response:**\n",
    "Thank you for your suggestion. In Section 3.1, we have included an explanation of the basic usage of the Julia language."
   ]
  },
  {
   "cell_type": "markdown",
   "id": "94b9f15a-4582-4e3e-bcce-62527f5aa890",
   "metadata": {},
   "source": [
    "**The referee writes:**\n",
    "> The authors have invested quite some time into the numerical stability of their algorithm, yet the determination of the optimal number of Matsubara frequancies to include for the construction of the Pick matrix works on the assumption that utilizing the cholesky decomposition for determining positive deficniteness \"just works\", although it is hard problem (S.M. RUMP, VERIFICATION OF POSITIVE DEFINITENESS, 2006)\n",
    "\n",
    "**Our response:**\n",
    "Thank you for the very informative indication. As you pointed, numerical Cholesky deconposition does not give the criterion of positivity definiteness of a matrices. However, in our code, multiple precision arithmetic is adopted in Cholesky deconposition. Therefore, rounding error could be irrelevant for the result. We have addressed this issue in Section 2.2.3 and Section 4 where a detailed discussion has been added. "
   ]
  },
  {
   "cell_type": "markdown",
   "id": "69e0ad4a-8fa6-4451-a750-d4415a4221d1",
   "metadata": {},
   "source": [
    "**The referee writes:**\n",
    "> Numerous typos, and improvements to the utilized grammar would be helpful, some I point out here, but I recommend additional proof-reading.\n",
    "\n",
    "**Our response:**\n",
    "Thank you very much for taking the time to identify 10 typos. \n",
    "After incorporating your suggestions, we conducted additional proofreading of our manuscript. \n",
    "We hope that the revised version now meets your publication criteria."
   ]
  }
 ],
 "metadata": {
  "kernelspec": {
   "display_name": "Python 3 (ipykernel)",
   "language": "python",
   "name": "python3"
  },
  "language_info": {
   "codemirror_mode": {
    "name": "ipython",
    "version": 3
   },
   "file_extension": ".py",
   "mimetype": "text/x-python",
   "name": "python",
   "nbconvert_exporter": "python",
   "pygments_lexer": "ipython3",
   "version": "3.10.6"
  }
 },
 "nbformat": 4,
 "nbformat_minor": 5
}
