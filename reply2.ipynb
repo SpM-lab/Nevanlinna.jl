{
 "cells": [
  {
   "cell_type": "markdown",
   "id": "72e1cdf3-30e5-4b8a-804c-34fa09e0147b",
   "metadata": {},
   "source": [
    "We sincerely appreciate for your careful and detailed review.\n",
    "We are greatfull to see your positive comment.\n",
    "> an open source software package for the analytic continuation method based on Nevanlinna functions\n",
    "> uses strengths of the Julia language and associated libraries; in particular easy to use arbitrary precision and automatic differentiation\n",
    "> an extension of the previous C++ implementation provided by the authors of the first paper on Nevanlinna analytic continuation\n",
    "> numerical stability is much stronger than in previous versions\n",
    "\n",
    "> This is a very valuable contribution for Nevanlinna analytic continuation that will be of practical use to the community"
   ]
  },
  {
   "cell_type": "markdown",
   "id": "f1caeb59-e82f-46ac-b7bf-16be09f6bb1b",
   "metadata": {},
   "source": [
    "Below we reply to their comments and criticisms.\n",
    "We believe that our modification satisfy your request."
   ]
  },
  {
   "cell_type": "markdown",
   "id": "de799887-d390-4913-8bdf-25889b7efea3",
   "metadata": {
    "tags": []
   },
   "source": [
    "**The referee writes:**\n",
    "> work out the Hubbard gap example in the main text please. I could work through the notebook example in the git repo but that required quite some effort and does not tell me how the authors interpreted the data\n",
    "\n",
    "**Our response:**\n",
    "TODO!"
   ]
  },
  {
   "cell_type": "markdown",
   "id": "94b9f15a-4582-4e3e-bcce-62527f5aa890",
   "metadata": {},
   "source": [
    "**The referee writes:**\n",
    "> More examples please.\n",
    "\n",
    "**Our response:**\n",
    "We have added the examples of δ-function, single-Gaussian, single-Lorentzian, Kondo-resonance, Hubbard-gap model.\n",
    "The notebooks in which users try these examples have been prepared in our GitHub repository.\n",
    "Thank you for your suggestion which make our software more user-friendly."
   ]
  },
  {
   "cell_type": "markdown",
   "id": "69e0ad4a-8fa6-4451-a750-d4415a4221d1",
   "metadata": {},
   "source": [
    "**The referee writes:**\n",
    ">  Provide more information in the notebooks; eg on runtime, stability, judicious choice of parameters, installation \n",
    "\n",
    "**Our response:**\n",
    "TODO"
   ]
  },
  {
   "cell_type": "markdown",
   "id": "d77556d0-dbc4-42ab-a3df-92a1aeed8958",
   "metadata": {
    "tags": []
   },
   "source": [
    "**The referee writes:**\n",
    "> provide more interfaces (eg for other kernels) so that it is easy to use nevanlinna for non-experts and users that are not familiar with the julia language\n",
    "\n",
    "**Our response:**\n",
    "We have implemented new interface, namely, command line interface (CLI) which can be executed in shell.\n",
    "This interface does not need the user's understanding of deta treatment in Julia language.\n",
    "What users must prepare　is the input data text files.\n",
    "We believe that this CLI provide powerful tool for non-expert of Julia."
   ]
  },
  {
   "cell_type": "markdown",
   "id": "116f0fe3-fbcc-4d61-add5-61368a04ab49",
   "metadata": {},
   "source": [
    "**The referee writes:**\n",
    "> the authors should make an effort to improve the many spelling errors\n",
    "\n",
    "**Our response:**\n",
    "We conducted proofreading of our manuscript. \n",
    "We hope that the revised version now meets your publication criteria."
   ]
  },
  {
   "cell_type": "code",
   "execution_count": null,
   "id": "22bd3671-95cb-455a-a497-ec21ddd73208",
   "metadata": {},
   "outputs": [],
   "source": []
  }
 ],
 "metadata": {
  "kernelspec": {
   "display_name": "Python 3 (ipykernel)",
   "language": "python",
   "name": "python3"
  },
  "language_info": {
   "codemirror_mode": {
    "name": "ipython",
    "version": 3
   },
   "file_extension": ".py",
   "mimetype": "text/x-python",
   "name": "python",
   "nbconvert_exporter": "python",
   "pygments_lexer": "ipython3",
   "version": "3.10.6"
  }
 },
 "nbformat": 4,
 "nbformat_minor": 5
}
