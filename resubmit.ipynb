{
 "cells": [
  {
   "cell_type": "markdown",
   "id": "de989ca0-c984-474f-b0b3-78d2bfe4ef9a",
   "metadata": {},
   "source": [
    "##### Author comments upon resubmission\n",
    "We answered to the Referee Reports separately. All information is provided in our Comments to their Reports.\n",
    "##### List of changes\n",
    "TODO\n",
    "1. Changed wording throughout the text in response to the Referee Reports; in particular, we replaced Fig 8 with a new figure showing the average kinetic energy per site as a function of linear system size for a critical system.\n",
    "2. Added two tutorials to the repo\n",
    "3. Added a second way to construct lattices based on XML files. Forked from the library provided by S. Todo."
   ]
  },
  {
   "cell_type": "code",
   "execution_count": null,
   "id": "b7bb5cc4-89e0-4cff-b58f-057ed9e09f30",
   "metadata": {},
   "outputs": [],
   "source": []
  }
 ],
 "metadata": {
  "kernelspec": {
   "display_name": "Python 3 (ipykernel)",
   "language": "python",
   "name": "python3"
  },
  "language_info": {
   "codemirror_mode": {
    "name": "ipython",
    "version": 3
   },
   "file_extension": ".py",
   "mimetype": "text/x-python",
   "name": "python",
   "nbconvert_exporter": "python",
   "pygments_lexer": "ipython3",
   "version": "3.10.6"
  }
 },
 "nbformat": 4,
 "nbformat_minor": 5
}
