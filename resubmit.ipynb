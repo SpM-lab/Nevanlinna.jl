{
 "cells": [
  {
   "cell_type": "markdown",
   "id": "de989ca0-c984-474f-b0b3-78d2bfe4ef9a",
   "metadata": {},
   "source": [
    "##### Author comments upon resubmission\n",
    "We answered to the Referee Reports separately. All information is provided in our Comments to their Reports.\n",
    "##### List of changes\n",
    "1. We have implemented a command-line interface and explained its usage in Section 3.2.2 of our revised manuscript.\n",
    "2. The revised manuscript now includes a discussion on the rigorous criterion for positive definiteness in both Section 2.2.3 and Section 4.\n",
    "3. Figure 1 of the manuscript has been updated to include six examples of Nevanlinna analytic continuation.\n",
    "4. In Section 3.3, we have added a discussion on the challenging Hubbard gap model, which is presented by Figure 3.\n",
    "5. References [56], [66], and [67] have been included in the reference list.\n",
    "6. To enhance clarity, the sample code has been moved to Appendix B for easy reference.\n",
    "7. The notebooks in our repositry have been cleaned."
   ]
  }
 ],
 "metadata": {
  "kernelspec": {
   "display_name": "Python 3 (ipykernel)",
   "language": "python",
   "name": "python3"
  },
  "language_info": {
   "codemirror_mode": {
    "name": "ipython",
    "version": 3
   },
   "file_extension": ".py",
   "mimetype": "text/x-python",
   "name": "python",
   "nbconvert_exporter": "python",
   "pygments_lexer": "ipython3",
   "version": "3.10.6"
  }
 },
 "nbformat": 4,
 "nbformat_minor": 5
}
