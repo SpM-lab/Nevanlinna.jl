{
 "cells": [
  {
   "cell_type": "code",
   "execution_count": 24,
   "id": "c994ba80",
   "metadata": {},
   "outputs": [
    {
     "data": {
      "text/plain": [
       "calc_functional (generic function with 3 methods)"
      ]
     },
     "execution_count": 24,
     "metadata": {},
     "output_type": "execute_result"
    }
   ],
   "source": [
    "using SparseIR\n",
    "using PyPlot\n",
    "rcParams = PyPlot.PyDict(PyPlot.matplotlib.\"rcParams\")\n",
    "rcParams[\"text.usetex\"] = true\n",
    "rcParams[\"font.family\"] = \"serif\"\n",
    "rcParams[\"font.size\"] = 16\n",
    "rcParams[\"text.latex.preamble\"] = raw\"\\usepackage{amsmath}\"\n",
    "using LinearAlgebra\n",
    "using Revise\n",
    "using Optim\n",
    "using FFTW\n",
    "#using ForwardDiff\n",
    "using Zygote\n",
    "using Flux\n",
    "include(\"./src_Nevanlinna.jl\")"
   ]
  },
  {
   "cell_type": "code",
   "execution_count": 2,
   "id": "3593ead9",
   "metadata": {},
   "outputs": [
    {
     "data": {
      "image/png": "[encoded data removed]",
      "text/plain": [
       "Figure(PyObject <Figure size 640x480 with 1 Axes>)"
      ]
     },
     "metadata": {},
     "output_type": "display_data"
    },
    {
     "data": {
      "text/plain": [
       "1-element Vector{PyCall.PyObject}:\n",
       " PyObject <matplotlib.lines.Line2D object at 0x14aa2e143f70>"
      ]
     },
     "execution_count": 2,
     "metadata": {},
     "output_type": "execute_result"
    }
   ],
   "source": [
    "# Three Gaussian peaks (normalized to 1)\n",
    "gaussian(x, mu, sigma) = exp(-((x-mu)/sigma)^2)/(sqrt(π)*sigma)\n",
    "\n",
    "#rho(omega) = 0.2*gaussian(omega, 0.0, 0.15) + \n",
    "#    0.4*gaussian(omega, 1.0, 0.8) + 0.4*gaussian(omega, -1.0, 0.8)\n",
    "\n",
    "rho(omega) = gaussian(omega, 0.0, 0.15)\n",
    "#    0.4*gaussian(omega, 1.0, 0.8) + 0.4*gaussian(omega, -1.0, 0.8)\n",
    "\n",
    "\n",
    "omegas = LinRange(-5, 5, 1000)\n",
    "plt.xlabel(L\"\\omega\")\n",
    "plt.ylabel(L\"\\rho(\\omega)\")\n",
    "plt.plot(omegas, rho.(omegas))"
   ]
  },
  {
   "cell_type": "code",
   "execution_count": 3,
   "id": "70c10525",
   "metadata": {},
   "outputs": [],
   "source": [
    "beta = 100\n",
    "wmax = 1000\n",
    "IR_basis_set = FiniteTempBasisSet(beta, wmax, 1e-7)\n",
    "#basis = FiniteTempBasis(fermion, beta, wmax, 1e-7)\n",
    "\n",
    "rhol = [overlap(IR_basis_set.basis_f.v[l], rho) for l in 1:size(IR_basis_set.basis_f)]\n",
    "gl = - IR_basis_set.basis_f.s .* rhol\n",
    ";\n",
    "#=\n",
    "plt.semilogy(abs.(rhol), marker=\"o\", label=L\"|\\rho_l|\")\n",
    "plt.semilogy(abs.(gl), marker=\"x\", label=L\"|g_l|\")\n",
    "plt.xlabel(L\"l\")\n",
    "plt.ylim([1e-5, 1])\n",
    "#plt.legend()\n",
    "=#"
   ]
  },
  {
   "cell_type": "code",
   "execution_count": 4,
   "id": "3c668898",
   "metadata": {},
   "outputs": [
    {
     "data": {
      "text/plain": [
       "37"
      ]
     },
     "execution_count": 4,
     "metadata": {},
     "output_type": "execute_result"
    }
   ],
   "source": [
    "gw = evaluate(IR_basis_set.smpl_wn_f, gl)\n",
    "hnw = Int64(length(IR_basis_set.smpl_wn_f.sampling_points)/2)"
   ]
  },
  {
   "cell_type": "code",
   "execution_count": 5,
   "id": "fad7aa5b",
   "metadata": {},
   "outputs": [
    {
     "data": {
      "text/plain": [
       "128"
      ]
     },
     "execution_count": 5,
     "metadata": {},
     "output_type": "execute_result"
    }
   ],
   "source": [
    "setprecision(128)"
   ]
  },
  {
   "cell_type": "code",
   "execution_count": 6,
   "id": "40d6361a",
   "metadata": {},
   "outputs": [],
   "source": [
    "test_gw   = Array{Complex{BigFloat}}(undef, hnw) \n",
    "test_smpl = Array{BigFloat}(undef, hnw) \n",
    ";"
   ]
  },
  {
   "cell_type": "code",
   "execution_count": 7,
   "id": "d82c402a",
   "metadata": {},
   "outputs": [],
   "source": [
    "for i in 1:hnw\n",
    "    test_smpl[i]= parse(BigFloat, string(IR_basis_set.smpl_wn_f.sampling_points[hnw+i]*pi/beta))\n",
    "    test_gw[i]  = parse(BigFloat, string(real(gw[hnw+i]))) + parse(BigFloat, string(imag(gw[hnw+i])))*im\n",
    "end"
   ]
  },
  {
   "cell_type": "code",
   "execution_count": 8,
   "id": "6c79bb42",
   "metadata": {},
   "outputs": [
    {
     "name": "stdout",
     "output_type": "stream",
     "text": [
      "Pick matrix is positive semi-definite.\n"
     ]
    }
   ],
   "source": [
    "N_imag    =  12\n",
    "N_real    =  6000\n",
    "omega_min = -10.0\n",
    "omega_max =  10.0\n",
    "eta       =  0.001\n",
    "H         =  1\n",
    "ab_coeff = zeros(Float64, 2*H) \n",
    "imaginary = ImagDomainData(N_imag, test_smpl, test_gw)\n",
    "phis = calc_phis(imaginary)\n",
    "\n",
    "pre_reals = RealDomainData(N_real, omega_min, omega_max, eta)\n",
    "pre_abcd = calc_abcd(imaginary, pre_reals, phis)\n",
    "evaluation(imaginary, pre_reals, pre_abcd, H, ab_coeff)\n",
    "\n",
    "reals = RealDomainData(N_real, omega_min, omega_max, eta)\n",
    "abcd = calc_abcd(imaginary, pre_reals, phis)\n",
    "evaluation(imaginary, reals, abcd, H, ab_coeff)\n",
    ";"
   ]
  },
  {
   "cell_type": "code",
   "execution_count": 9,
   "id": "aa3028f5",
   "metadata": {},
   "outputs": [],
   "source": [
    "#=\n",
    "N_imag    =  12\n",
    "N_real    =  6000\n",
    "omega_min = -10.0\n",
    "omega_max =  10.0\n",
    "eta       =  0.001\n",
    "H         =  1\n",
    "ab_coeff = zeros(Float64, 2*H) \n",
    "imaginary = ImagDomainData(N_imag, test_smpl, test_gw)\n",
    "phis = calc_phis(imaginary)\n",
    "pre_reals = RealDomainData(N_real, omega_min, omega_max, eta)\n",
    "evaluation(imaginary, pre_reals, phis, H, ab_coeff)\n",
    "reals = RealDomainData(N_real, omega_min, omega_max, eta)\n",
    "evaluation(imaginary, reals, phis, H, ab_coeff)\n",
    "=#\n",
    ";"
   ]
  },
  {
   "cell_type": "code",
   "execution_count": 10,
   "id": "057572b4",
   "metadata": {
    "scrolled": true
   },
   "outputs": [
    {
     "data": {
      "text/plain": [
       "1.1091237790523654"
      ]
     },
     "execution_count": 10,
     "metadata": {},
     "output_type": "execute_result"
    }
   ],
   "source": [
    "calc_functional(pre_reals)"
   ]
  },
  {
   "cell_type": "code",
   "execution_count": 11,
   "id": "3dea4341",
   "metadata": {},
   "outputs": [
    {
     "data": {
      "image/png": "[encoded data removed]",
      "text/plain": [
       "Figure(PyObject <Figure size 640x480 with 1 Axes>)"
      ]
     },
     "metadata": {},
     "output_type": "display_data"
    },
    {
     "data": {
      "text/plain": [
       "(-1.0, 1.0)"
      ]
     },
     "execution_count": 11,
     "metadata": {},
     "output_type": "execute_result"
    }
   ],
   "source": [
    "plt.plot(Float64.(real.((pre_reals.freq))), Float64.(imag.(pre_reals.val))/pi)\n",
    "plt.xlim(-1.0,1.0)"
   ]
  },
  {
   "cell_type": "code",
   "execution_count": 16,
   "id": "262ca393",
   "metadata": {},
   "outputs": [
    {
     "data": {
      "text/plain": [
       "functional (generic function with 2 methods)"
      ]
     },
     "execution_count": 16,
     "metadata": {},
     "output_type": "execute_result"
    }
   ],
   "source": [
    "function functional(imag::ImagDomainData, reals::RealDomainData, phis::Vector{Complex{BigFloat}}, H::Int64, ab_coeff::Vector{Float64})\n",
    "    evaluation(imaginary, reals, phis, H, ab_coeff)\n",
    "    return real(calc_functional(reals))\n",
    "end\n",
    "function functional(imag::ImagDomainData, reals::RealDomainData, abcd::Array{Complex{BigFloat},3}, H::Int64, ab_coeff::Vector{Float64})\n",
    "    evaluation(imaginary, reals, abcd, H, ab_coeff)\n",
    "    return real(calc_functional(reals))\n",
    "end"
   ]
  },
  {
   "cell_type": "code",
   "execution_count": 25,
   "id": "39719f5c",
   "metadata": {},
   "outputs": [
    {
     "data": {
      "text/plain": [
       "#15 (generic function with 1 method)"
      ]
     },
     "execution_count": 25,
     "metadata": {},
     "output_type": "execute_result"
    }
   ],
   "source": [
    "#ff = x->functional(imaginary, reals, phis, H, x)\n",
    "ff = x->calc_functional(reals, abcd, H, x)"
   ]
  },
  {
   "cell_type": "code",
   "execution_count": 26,
   "id": "26f7432a",
   "metadata": {},
   "outputs": [
    {
     "ename": "LoadError",
     "evalue": "InterruptException:",
     "output_type": "error",
     "traceback": [
      "InterruptException:",
      "",
      "Stacktrace:",
      "  [1] _string_n",
      "    @ ./strings/string.jl:74 [inlined]",
      "  [2] BigFloat(; precision::Int64)",
      "    @ Base.MPFR ./mpfr.jl:115",
      "  [3] BigFloat",
      "    @ ./mpfr.jl:111 [inlined]",
      "  [4] +(x::BigFloat, y::BigFloat)",
      "    @ Base.MPFR ./mpfr.jl:365",
      "  [5] +",
      "    @ ./complex.jl:275 [inlined]",
      "  [6] accum",
      "    @ ~/.julia/packages/Zygote/DkIUK/src/lib/lib.jl:17 [inlined]",
      "  [7] _broadcast_getindex_evalf",
      "    @ ./broadcast.jl:648 [inlined]",
      "  [8] _broadcast_getindex",
      "    @ ./broadcast.jl:621 [inlined]",
      "  [9] getindex",
      "    @ ./broadcast.jl:575 [inlined]",
      " [10] macro expansion",
      "    @ ./broadcast.jl:984 [inlined]",
      " [11] macro expansion",
      "    @ ./simdloop.jl:77 [inlined]",
      " [12] copyto!",
      "    @ ./broadcast.jl:983 [inlined]",
      " [13] copyto!",
      "    @ ./broadcast.jl:936 [inlined]",
      " [14] copy",
      "    @ ./broadcast.jl:908 [inlined]",
      " [15] materialize",
      "    @ ./broadcast.jl:883 [inlined]",
      " [16] accum(x::Array{Complex{BigFloat}, 3}, ys::Zygote.OneElement{Complex{BigFloat}, 3, Tuple{Int64, Int64, Int64}, Tuple{Base.OneTo{Int64}, Base.OneTo{Int64}, Base.OneTo{Int64}}})",
      "    @ Zygote ~/.julia/packages/Zygote/DkIUK/src/lib/lib.jl:25",
      " [17] macro expansion",
      "    @ ~/.julia/packages/Zygote/DkIUK/src/lib/lib.jl:27 [inlined]",
      " [18] accum",
      "    @ ~/.julia/packages/Zygote/DkIUK/src/lib/lib.jl:27 [inlined]",
      " [19] accum(x::NamedTuple{(:reals, :abcd, :H, :ab_coeff), Tuple{Nothing, Array{Complex{BigFloat}, 3}, Nothing, Nothing}}, y::NamedTuple{(:reals, :abcd, :H, :ab_coeff), Tuple{Nothing, Zygote.OneElement{Complex{BigFloat}, 3, Tuple{Int64, Int64, Int64}, Tuple{Base.OneTo{Int64}, Base.OneTo{Int64}, Base.OneTo{Int64}}}, Nothing, Nothing}}, zs::NamedTuple{(:reals, :abcd, :H, :ab_coeff), Tuple{Nothing, Zygote.OneElement{Complex{BigFloat}, 3, Tuple{Int64, Int64, Int64}, Tuple{Base.OneTo{Int64}, Base.OneTo{Int64}, Base.OneTo{Int64}}}, Nothing, Nothing}}) (repeats 2 times)",
      "    @ Zygote ~/.julia/packages/Zygote/DkIUK/src/lib/lib.jl:22",
      " [20] Pullback",
      "    @ ~/work/Nevanlinna/Nevanlinna.jl:131 [inlined]",
      " [21] (::typeof(∂(λ)))(Δ::Complex{BigFloat})",
      "    @ Zygote ~/.julia/packages/Zygote/DkIUK/src/compiler/interface2.jl:0",
      " [22] Pullback",
      "    @ ./none:0 [inlined]",
      " [23] (::typeof(∂(λ)))(Δ::BigFloat)",
      "    @ Zygote ~/.julia/packages/Zygote/DkIUK/src/compiler/interface2.jl:0",
      " [24] #540",
      "    @ ~/.julia/packages/Zygote/DkIUK/src/lib/array.jl:198 [inlined]",
      " [25] #4",
      "    @ ./generator.jl:36 [inlined]",
      " [26] iterate",
      "    @ ./generator.jl:47 [inlined]",
      " [27] collect_to!(dest::Vector{Tuple{NamedTuple{(:calc_g,), Tuple{NamedTuple{(:reals, :abcd, :H, :ab_coeff), Tuple{NamedTuple{(:N_real, :omega_min, :omega_max, :eta, :freq, :val), Tuple{Nothing, Nothing, Nothing, Nothing, Zygote.OneElement{Complex{BigFloat}, 1, Tuple{Int64}, Tuple{Base.OneTo{Int64}}}, Nothing}}, Array{Complex{BigFloat}, 3}, Nothing, Vector{Float64}}}}}, Nothing}}, itr::Base.Generator{Base.Iterators.Zip{Tuple{Vector{Tuple{BigFloat, typeof(∂(λ))}}, Vector{BigFloat}}}, Base.var\"#4#5\"{Zygote.var\"#540#545\"}}, offs::Int64, st::Tuple{Int64, Int64})",
      "    @ Base ./array.jl:728",
      " [28] collect_to_with_first!(dest::Vector{Tuple{NamedTuple{(:calc_g,), Tuple{NamedTuple{(:reals, :abcd, :H, :ab_coeff), Tuple{NamedTuple{(:N_real, :omega_min, :omega_max, :eta, :freq, :val), Tuple{Nothing, Nothing, Nothing, Nothing, Zygote.OneElement{Complex{BigFloat}, 1, Tuple{Int64}, Tuple{Base.OneTo{Int64}}}, Nothing}}, Array{Complex{BigFloat}, 3}, Nothing, Vector{Float64}}}}}, Nothing}}, v1::Tuple{NamedTuple{(:calc_g,), Tuple{NamedTuple{(:reals, :abcd, :H, :ab_coeff), Tuple{NamedTuple{(:N_real, :omega_min, :omega_max, :eta, :freq, :val), Tuple{Nothing, Nothing, Nothing, Nothing, Zygote.OneElement{Complex{BigFloat}, 1, Tuple{Int64}, Tuple{Base.OneTo{Int64}}}, Nothing}}, Array{Complex{BigFloat}, 3}, Nothing, Vector{Float64}}}}}, Nothing}, itr::Base.Generator{Base.Iterators.Zip{Tuple{Vector{Tuple{BigFloat, typeof(∂(λ))}}, Vector{BigFloat}}}, Base.var\"#4#5\"{Zygote.var\"#540#545\"}}, st::Tuple{Int64, Int64})",
      "    @ Base ./array.jl:706",
      " [29] collect(itr::Base.Generator{Base.Iterators.Zip{Tuple{Vector{Tuple{BigFloat, typeof(∂(λ))}}, Vector{BigFloat}}}, Base.var\"#4#5\"{Zygote.var\"#540#545\"}})",
      "    @ Base ./array.jl:687",
      " [30] map",
      "    @ ./abstractarray.jl:2383 [inlined]",
      " [31] (::Zygote.var\"#map_back#542\"{var\"#12#14\"{var\"#calc_g#13\"{RealDomainData, Array{Complex{BigFloat}, 3}, Int64, Vector{Float64}}}, 1, Tuple{UnitRange{Int64}}, Tuple{Tuple{Base.OneTo{Int64}}}, Vector{Tuple{BigFloat, typeof(∂(λ))}}})(Δ::Vector{BigFloat})",
      "    @ Zygote ~/.julia/packages/Zygote/DkIUK/src/lib/array.jl:198",
      " [32] (::Zygote.var\"#back#572\"{Zygote.var\"#map_back#542\"{var\"#12#14\"{var\"#calc_g#13\"{RealDomainData, Array{Complex{BigFloat}, 3}, Int64, Vector{Float64}}}, 1, Tuple{UnitRange{Int64}}, Tuple{Tuple{Base.OneTo{Int64}}}, Vector{Tuple{BigFloat, typeof(∂(λ))}}}})(ȳ::Vector{BigFloat})",
      "    @ Zygote ~/.julia/packages/Zygote/DkIUK/src/lib/array.jl:234",
      " [33] Pullback",
      "    @ ~/work/Nevanlinna/Nevanlinna.jl:135 [inlined]",
      " [34] (::typeof(∂(calc_functional)))(Δ::Float64)",
      "    @ Zygote ~/.julia/packages/Zygote/DkIUK/src/compiler/interface2.jl:0",
      " [35] Pullback",
      "    @ ./In[25]:2 [inlined]",
      " [36] (::typeof(∂(#15)))(Δ::Float64)",
      "    @ Zygote ~/.julia/packages/Zygote/DkIUK/src/compiler/interface2.jl:0",
      " [37] (::Zygote.var\"#50#51\"{typeof(∂(#15))})(Δ::Float64)",
      "    @ Zygote ~/.julia/packages/Zygote/DkIUK/src/compiler/interface.jl:41",
      " [38] gradient(f::Function, args::Vector{Float64})",
      "    @ Zygote ~/.julia/packages/Zygote/DkIUK/src/compiler/interface.jl:76",
      " [39] top-level scope",
      "    @ In[26]:1",
      " [40] eval",
      "    @ ./boot.jl:360 [inlined]",
      " [41] include_string(mapexpr::typeof(REPL.softscope), mod::Module, code::String, filename::String)",
      "    @ Base ./loading.jl:1116"
     ]
    }
   ],
   "source": [
    "gradient(ff, ab_coeff)"
   ]
  },
  {
   "cell_type": "code",
   "execution_count": 48,
   "id": "8fc709cb",
   "metadata": {
    "scrolled": true
   },
   "outputs": [
    {
     "ename": "LoadError",
     "evalue": "InterruptException:",
     "output_type": "error",
     "traceback": [
      "InterruptException:",
      "",
      "Stacktrace:",
      "  [1] _string_n",
      "    @ ./strings/string.jl:74 [inlined]",
      "  [2] BigFloat(; precision::Int64)",
      "    @ Base.MPFR ./mpfr.jl:115",
      "  [3] BigFloat",
      "    @ ./mpfr.jl:111 [inlined]",
      "  [4] +(x::BigFloat, y::BigFloat)",
      "    @ Base.MPFR ./mpfr.jl:365",
      "  [5] +",
      "    @ ./complex.jl:275 [inlined]",
      "  [6] matmul2x2!(C::Matrix{Complex{BigFloat}}, tA::Char, tB::Char, A::Matrix{Complex{BigFloat}}, B::Matrix{Complex{BigFloat}}, _add::LinearAlgebra.MulAddMul{true, true, Bool, Bool})",
      "    @ LinearAlgebra /buildworker/worker/package_linux64/build/usr/share/julia/stdlib/v1.6/LinearAlgebra/src/matmul.jl:1021",
      "  [7] generic_matmatmul!(C::Matrix{Complex{BigFloat}}, tA::Char, tB::Char, A::Matrix{Complex{BigFloat}}, B::Matrix{Complex{BigFloat}}, _add::LinearAlgebra.MulAddMul{true, true, Bool, Bool})",
      "    @ LinearAlgebra /buildworker/worker/package_linux64/build/usr/share/julia/stdlib/v1.6/LinearAlgebra/src/matmul.jl:797",
      "  [8] mul!",
      "    @ /buildworker/worker/package_linux64/build/usr/share/julia/stdlib/v1.6/LinearAlgebra/src/matmul.jl:302 [inlined]",
      "  [9] mul!",
      "    @ /buildworker/worker/package_linux64/build/usr/share/julia/stdlib/v1.6/LinearAlgebra/src/matmul.jl:275 [inlined]",
      " [10] *",
      "    @ /buildworker/worker/package_linux64/build/usr/share/julia/stdlib/v1.6/LinearAlgebra/src/matmul.jl:153 [inlined]",
      " [11] evaluation(imag::ImagDomainData, reals::RealDomainData, phis::Vector{Complex{BigFloat}}, H::Int64, ab_coeff::Vector{Float64})",
      "    @ Main ~/work/Nevanlinna/Nevanlinna.jl:149",
      " [12] functional(imag::ImagDomainData, reals::RealDomainData, phis::Vector{Complex{BigFloat}}, H::Int64, ab_coeff::Vector{Float64})",
      "    @ Main ./In[45]:2",
      " [13] (::var\"#12#13\")(x::Vector{Float64})",
      "    @ Main ./In[47]:1",
      " [14] finite_difference_gradient!(df::Vector{Float64}, f::var\"#12#13\", x::Vector{Float64}, cache::FiniteDiff.GradientCache{Nothing, Nothing, Nothing, Vector{Float64}, Val{:central}(), Float64, Val{true}()}; relstep::Float64, absstep::Float64, dir::Bool)",
      "    @ FiniteDiff ~/.julia/packages/FiniteDiff/Syo0J/src/gradients.jl:275",
      " [15] finite_difference_gradient!(df::Vector{Float64}, f::Function, x::Vector{Float64}, cache::FiniteDiff.GradientCache{Nothing, Nothing, Nothing, Vector{Float64}, Val{:central}(), Float64, Val{true}()})",
      "    @ FiniteDiff ~/.julia/packages/FiniteDiff/Syo0J/src/gradients.jl:224",
      " [16] (::NLSolversBase.var\"#g!#15\"{var\"#12#13\", FiniteDiff.GradientCache{Nothing, Nothing, Nothing, Vector{Float64}, Val{:central}(), Float64, Val{true}()}})(storage::Vector{Float64}, x::Vector{Float64})",
      "    @ NLSolversBase ~/.julia/packages/NLSolversBase/cfJrN/src/objective_types/oncedifferentiable.jl:57",
      " [17] (::NLSolversBase.var\"#fg!#16\"{var\"#12#13\"})(storage::Vector{Float64}, x::Vector{Float64})",
      "    @ NLSolversBase ~/.julia/packages/NLSolversBase/cfJrN/src/objective_types/oncedifferentiable.jl:61",
      " [18] value_gradient!!(obj::OnceDifferentiable{Float64, Vector{Float64}, Vector{Float64}}, x::Vector{Float64})",
      "    @ NLSolversBase ~/.julia/packages/NLSolversBase/cfJrN/src/interface.jl:82",
      " [19] initial_state(method::BFGS{LineSearches.InitialStatic{Float64}, LineSearches.HagerZhang{Float64, Base.RefValue{Bool}}, Nothing, Nothing, Flat}, options::Optim.Options{Float64, Nothing}, d::OnceDifferentiable{Float64, Vector{Float64}, Vector{Float64}}, initial_x::Vector{Float64})",
      "    @ Optim ~/.julia/packages/Optim/6Lpjy/src/multivariate/solvers/first_order/bfgs.jl:94",
      " [20] optimize",
      "    @ ~/.julia/packages/Optim/6Lpjy/src/multivariate/optimize/optimize.jl:36 [inlined]",
      " [21] #optimize#89",
      "    @ ~/.julia/packages/Optim/6Lpjy/src/multivariate/optimize/interface.jl:142 [inlined]",
      " [22] optimize(f::Function, initial_x::Vector{Float64}, method::BFGS{LineSearches.InitialStatic{Float64}, LineSearches.HagerZhang{Float64, Base.RefValue{Bool}}, Nothing, Nothing, Flat}, options::Optim.Options{Float64, Nothing}) (repeats 2 times)",
      "    @ Optim ~/.julia/packages/Optim/6Lpjy/src/multivariate/optimize/interface.jl:141",
      " [23] top-level scope",
      "    @ ./timing.jl:210 [inlined]",
      " [24] top-level scope",
      "    @ ./In[48]:0",
      " [25] eval",
      "    @ ./boot.jl:360 [inlined]",
      " [26] include_string(mapexpr::typeof(REPL.softscope), mod::Module, code::String, filename::String)",
      "    @ Base ./loading.jl:1116"
     ]
    }
   ],
   "source": [
    "@time res = optimize(ff, ab_coeff, BFGS())\n",
    "#@time res = optimize(ff, ab_coeff, ConjugateGradient())"
   ]
  },
  {
   "cell_type": "code",
   "execution_count": 49,
   "id": "9e814d59",
   "metadata": {},
   "outputs": [
    {
     "ename": "LoadError",
     "evalue": "UndefVarError: res not defined",
     "output_type": "error",
     "traceback": [
      "UndefVarError: res not defined",
      "",
      "Stacktrace:",
      " [1] top-level scope",
      "   @ In[49]:1",
      " [2] eval",
      "   @ ./boot.jl:360 [inlined]",
      " [3] include_string(mapexpr::typeof(REPL.softscope), mod::Module, code::String, filename::String)",
      "   @ Base ./loading.jl:1116"
     ]
    }
   ],
   "source": [
    "evaluation(imaginary, reals, phis, H, Optim.minimizer(res))"
   ]
  },
  {
   "cell_type": "code",
   "execution_count": 50,
   "id": "02633c98",
   "metadata": {},
   "outputs": [
    {
     "ename": "LoadError",
     "evalue": "UndefVarError: res not defined",
     "output_type": "error",
     "traceback": [
      "UndefVarError: res not defined",
      "",
      "Stacktrace:",
      " [1] top-level scope",
      "   @ In[50]:1",
      " [2] eval",
      "   @ ./boot.jl:360 [inlined]",
      " [3] include_string(mapexpr::typeof(REPL.softscope), mod::Module, code::String, filename::String)",
      "   @ Base ./loading.jl:1116"
     ]
    }
   ],
   "source": [
    "println(res)"
   ]
  },
  {
   "cell_type": "code",
   "execution_count": 51,
   "id": "ac4594b4",
   "metadata": {},
   "outputs": [
    {
     "ename": "LoadError",
     "evalue": "UndefVarError: res not defined",
     "output_type": "error",
     "traceback": [
      "UndefVarError: res not defined",
      "",
      "Stacktrace:",
      " [1] top-level scope",
      "   @ ./In[51]:3",
      " [2] eval",
      "   @ ./boot.jl:360 [inlined]",
      " [3] include_string(mapexpr::typeof(REPL.softscope), mod::Module, code::String, filename::String)",
      "   @ Base ./loading.jl:1116"
     ]
    }
   ],
   "source": [
    "param_f = open( \"optim_param.dat\", \"w\")\n",
    "for i in 1:2*H\n",
    "    println(param_f, \"$(Optim.minimizer(res)[i])\")\n",
    "end\n",
    "close(param_f)"
   ]
  },
  {
   "cell_type": "code",
   "execution_count": 52,
   "id": "6e21de36",
   "metadata": {},
   "outputs": [
    {
     "data": {
      "text/plain": [
       "Figure(PyObject <Figure size 640x480 with 1 Axes>)"
      ]
     },
     "metadata": {},
     "output_type": "display_data"
    },
    {
     "data": {
      "text/plain": [
       "(-1.0, 1.0)"
      ]
     },
     "execution_count": 52,
     "metadata": {},
     "output_type": "execute_result"
    }
   ],
   "source": [
    "plt.plot(Float64.(real.((reals.freq))), Float64.(imag.(reals.val))/pi)\n",
    "plt.plot(Float64.(real.((pre_reals.freq))), Float64.(imag.(pre_reals.val))/pi)\n",
    "plt.xlim(-1.0,1.0)"
   ]
  },
  {
   "cell_type": "code",
   "execution_count": 53,
   "id": "38156b7f",
   "metadata": {},
   "outputs": [
    {
     "ename": "LoadError",
     "evalue": "InterruptException:",
     "output_type": "error",
     "traceback": [
      "InterruptException:",
      "",
      "Stacktrace:",
      "  [1] tryparse(::Type{BigFloat}, s::String; base::Int64, precision::Int64, rounding::Base.MPFR.MPFRRoundingMode)",
      "    @ Base.MPFR ./mpfr.jl:250",
      "  [2] tryparse",
      "    @ ./mpfr.jl:248 [inlined]",
      "  [3] #tryparse_internal#403",
      "    @ ./parse.jl:367 [inlined]",
      "  [4] tryparse_internal",
      "    @ ./parse.jl:367 [inlined]",
      "  [5] #parse#404",
      "    @ ./parse.jl:379 [inlined]",
      "  [6] parse",
      "    @ ./parse.jl:379 [inlined]",
      "  [7] hardy_basis(x::Float64, y::Float64, k::Int64)",
      "    @ Main ~/work/Nevanlinna/Nevanlinna.jl:168",
      "  [8] top-level scope",
      "    @ ./In[53]:7",
      "  [9] eval",
      "    @ ./boot.jl:360 [inlined]",
      " [10] include_string(mapexpr::typeof(REPL.softscope), mod::Module, code::String, filename::String)",
      "    @ Base ./loading.jl:1116"
     ]
    }
   ],
   "source": [
    "mesh = 1024\n",
    "myx = 40*(collect(1:mesh) .- mesh/2) ./ mesh\n",
    "myy = 20*(collect(1:mesh) .- 1) ./ mesh\n",
    "hardy_plot = Array{Complex{BigFloat}}(undef, mesh, mesh) \n",
    "for i in 1:mesh\n",
    "    for j in 1:mesh\n",
    "        hardy_plot[j,i] = hardy_basis(myx[j],myy[i],20)\n",
    "    end\n",
    "end\n",
    "plt.figure(figsize=(3.7,1.5))\n",
    "#plt.pcolormesh(myx, myy, real.(hardy_basis.(myx,myy,1)'), shading=\"auto\")\n",
    "plt.pcolormesh(myx, myy, Float64.(real.(hardy_plot')))\n",
    "#plt.pcolormesh(myx, myy, Float64.(imag.(conj.(hardy_plot)')))\n",
    "ax = plt.gca()\n",
    "ax.set_xlim([-20,20])\n",
    "ax.set_ylim([0,1])\n",
    "#ax.set_aspect(\"equal\")\n",
    "plt.colorbar()\n",
    "plt.show()"
   ]
  },
  {
   "cell_type": "code",
   "execution_count": 54,
   "id": "2c33ed4b",
   "metadata": {},
   "outputs": [],
   "source": [
    "f = open( \"in_green.dat\", \"w\")\n",
    "for iw in 1:hnw\n",
    "    IR_basis_set.smpl_wn_f.sampling_points[hnw+iw]\n",
    "    omega = IR_basis_set.smpl_wn_f.sampling_points[hnw+iw]*pi/beta\n",
    "    green = gw[hnw+iw]\n",
    "    println(f, \"$omega \\t $(real(green)) \\t $(imag(green))\")\n",
    "end\n",
    "close(f)\n",
    "g = open( \"input.txt\", \"w\")\n",
    "    println(g,\"in_green.dat \\t $hnw \\tout_spec.dat\")\n",
    "close(g)\n",
    "#=\n",
    "f = open(\"in_green.dat\", \"r\")\n",
    "for i in 1:hnw\n",
    "    list = readline(f)\n",
    "    s  = split(list,'\\t')\n",
    "    o  = parse(BigFloat, s[1])\n",
    "    re = parse(BigFloat, s[2])\n",
    "    ii = parse(BigFloat, s[3])\n",
    "    test_smpl[i] = o\n",
    "    test_gw[i]   = re + ii*im\n",
    "end\n",
    "close(f)\n",
    "=#"
   ]
  }
 ],
 "metadata": {
  "kernelspec": {
   "display_name": "Julia 1.6.3",
   "language": "julia",
   "name": "julia-1.6"
  },
  "language_info": {
   "file_extension": ".jl",
   "mimetype": "application/julia",
   "name": "julia",
   "version": "1.6.3"
  }
 },
 "nbformat": 4,
 "nbformat_minor": 5
}
