{
 "cells": [
  {
   "cell_type": "code",
   "execution_count": null,
   "id": "c994ba80",
   "metadata": {},
   "outputs": [],
   "source": [
    "using SparseIR\n",
    "using PyPlot"
   ]
  },
  {
   "cell_type": "code",
   "execution_count": null,
   "id": "3593ead9",
   "metadata": {},
   "outputs": [],
   "source": [
    "# Three Gaussian peaks (normalized to 1)\n",
    "gaussian(x, mu, sigma) = exp(-((x-mu)/sigma)^2)/(sqrt(π)*sigma)\n",
    "\n",
    "rho(omega) = 0.2*gaussian(omega, 0.0, 0.15) + \n",
    "    0.4*gaussian(omega, 1.0, 0.8) + 0.4*gaussian(omega, -1.0, 0.8)\n",
    "\n",
    "#rho(omega) = gaussian(omega, 1.0, 0.3)\n",
    "#    0.4*gaussian(omega, 1.0, 0.8) + 0.4*gaussian(omega, -1.0, 0.8)\n",
    "\n",
    "omegas = LinRange(-5, 5, 1000)\n",
    "plt.xlabel(L\"\\omega\")\n",
    "plt.ylabel(L\"\\rho(\\omega)\")\n",
    "plt.plot(omegas, rho.(omegas))"
   ]
  },
  {
   "cell_type": "code",
   "execution_count": null,
   "id": "70c10525",
   "metadata": {},
   "outputs": [],
   "source": [
    "beta = 10\n",
    "wmax = 10\n",
    "IR_basis_set = FiniteTempBasisSet(beta, wmax, 1e-10)\n",
    "#basis = FiniteTempBasis(fermion, beta, wmax, 1e-7)\n",
    "\n",
    "rhol = [overlap(IR_basis_set.basis_f.v[l], rho) for l in 1:size(IR_basis_set.basis_f)]\n",
    "gl = - IR_basis_set.basis_f.s .* rhol\n",
    "\n",
    "plt.semilogy(abs.(rhol), marker=\"o\", label=L\"|\\rho_l|\")\n",
    "plt.semilogy(abs.(gl), marker=\"x\", label=L\"|g_l|\")\n",
    "plt.xlabel(L\"l\")\n",
    "plt.ylim([1e-5, 1])\n",
    "plt.legend()"
   ]
  },
  {
   "cell_type": "code",
   "execution_count": null,
   "id": "52239dc8",
   "metadata": {},
   "outputs": [],
   "source": [
    "IR_basis_set.smpl_wn_f.sampling_points"
   ]
  },
  {
   "cell_type": "code",
   "execution_count": null,
   "id": "225ea9b4",
   "metadata": {},
   "outputs": [],
   "source": [
    "gw = evaluate(IR_basis_set.smpl_wn_f, gl)"
   ]
  },
  {
   "cell_type": "code",
   "execution_count": null,
   "id": "e819667f",
   "metadata": {},
   "outputs": [],
   "source": [
    "plt.plot(IR_basis_set.smpl_wn_f.sampling_points, imag(gw))"
   ]
  },
  {
   "cell_type": "code",
   "execution_count": null,
   "id": "3c668898",
   "metadata": {},
   "outputs": [],
   "source": [
    "hnw = Int64(length(IR_basis_set.smpl_wn_f.sampling_points)/2)"
   ]
  },
  {
   "cell_type": "code",
   "execution_count": null,
   "id": "4f5e550a",
   "metadata": {},
   "outputs": [],
   "source": [
    "gw[14]"
   ]
  },
  {
   "cell_type": "code",
   "execution_count": null,
   "id": "d86f313d",
   "metadata": {},
   "outputs": [],
   "source": [
    "IR_basis_set.smpl_wn_f.sampling_points[26]"
   ]
  },
  {
   "cell_type": "code",
   "execution_count": null,
   "id": "6fedb5a9",
   "metadata": {},
   "outputs": [],
   "source": [
    "f = open( \"green.dat\", \"w\")\n",
    "for iw in 1:hnw\n",
    "    IR_basis_set.smpl_wn_f.sampling_points[hnw+iw]\n",
    "    omega = IR_basis_set.smpl_wn_f.sampling_points[hnw+iw]*pi/beta\n",
    "    green = gw[hnw+iw]\n",
    "    println(f, \"$omega \\t $(real(green)) \\t $(imag(green))\")\n",
    "end\n",
    "close(f)"
   ]
  },
  {
   "cell_type": "code",
   "execution_count": null,
   "id": "d761b0aa",
   "metadata": {},
   "outputs": [],
   "source": []
  }
 ],
 "metadata": {
  "kernelspec": {
   "display_name": "Julia 1.6.3",
   "language": "julia",
   "name": "julia-1.6"
  },
  "language_info": {
   "file_extension": ".jl",
   "mimetype": "application/julia",
   "name": "julia",
   "version": "1.6.3"
  }
 },
 "nbformat": 4,
 "nbformat_minor": 5
}
